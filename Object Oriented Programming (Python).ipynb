{
 "cells": [
  {
   "cell_type": "markdown",
   "id": "5c43c29e",
   "metadata": {},
   "source": [
    "Just like real life, in OOP, we can define real object, along with it attributes and behaviour(methods). A object comes under class. \n",
    "\n",
    "For example, say we are building a video game, where there are multiple players, enemies, NPS, different trees, etc. All those are called class. Under those classes, we can make different object. Say for eg. under player, there is someone named Akash, mohit, rudra, kavita, aditi, Ritu, etc. This are all different object under same class of players.\n",
    "Now, all the classes are going to have different attributes as well. Like, player will have weight, height, colour, gender, etc. We can give all those attributes, that we already define while making a class to all the object we make under that class. \n",
    "Also, if we need, we can define different methods(things different object under a class can do) under different classes as well. Like say a player can run, drive, jump, etc. "
   ]
  },
  {
   "cell_type": "code",
   "execution_count": 6,
   "id": "58c37fe1",
   "metadata": {},
   "outputs": [],
   "source": [
    "class player: #Class keyword is used to define a function.\n",
    "    \n",
    "    name = 'Akash'\n",
    "    colour = 'Brown'\n",
    "    weight = 60\n",
    "    height = 5.6\n",
    "    gender = 'Male'\n",
    "    \n",
    "    def run(self):\n",
    "        print(f'{self.name} is running now') #Remember that self calls whatever object we have defined."
   ]
  },
  {
   "cell_type": "code",
   "execution_count": 7,
   "id": "d5ac9d2c",
   "metadata": {},
   "outputs": [
    {
     "name": "stdout",
     "output_type": "stream",
     "text": [
      "Akash\n",
      "Brown\n",
      "Akash is running now\n"
     ]
    }
   ],
   "source": [
    "a = player()\n",
    "\n",
    "print(a.name)\n",
    "print(a.colour)\n",
    "\n",
    "a.run()"
   ]
  },
  {
   "cell_type": "markdown",
   "id": "fa5cad0f",
   "metadata": {},
   "source": [
    "All the above outputs are defult input that we did made up while making the class of player. Let's see how to edit those values. "
   ]
  },
  {
   "cell_type": "code",
   "execution_count": 8,
   "id": "c2a25812",
   "metadata": {},
   "outputs": [
    {
     "name": "stdout",
     "output_type": "stream",
     "text": [
      "Maya\n",
      "60\n",
      "Maya is running now\n"
     ]
    }
   ],
   "source": [
    "b = player()\n",
    "\n",
    "b.name = 'Maya'\n",
    "b.height = 6.0\n",
    "b.weight = 60\n",
    "\n",
    "print(b.name)\n",
    "print(b.weight)\n",
    "\n",
    "b.run()"
   ]
  },
  {
   "cell_type": "markdown",
   "id": "f83c6f3c",
   "metadata": {},
   "source": [
    "Although we can change different attribute of objects, it's better idea to use something called a constructor (__init__) and we can define attributes for objects everytime we create a new one. Let's see some examples."
   ]
  },
  {
   "cell_type": "code",
   "execution_count": 2,
   "id": "cddcd532",
   "metadata": {},
   "outputs": [],
   "source": [
    "class Engineer:\n",
    "    \n",
    "    def __init__(self, n, occ):\n",
    "        self.name = n\n",
    "        self.occupation = occ\n",
    "        \n",
    "    def info(self):\n",
    "        print(f'{self.name} is a {self.occupation}.')"
   ]
  },
  {
   "cell_type": "code",
   "execution_count": 3,
   "id": "bef1f7a7",
   "metadata": {},
   "outputs": [
    {
     "name": "stdout",
     "output_type": "stream",
     "text": [
      "Akash\n",
      "Python Programmer\n",
      "Akash is a Python Programmer.\n"
     ]
    }
   ],
   "source": [
    "a = Engineer('Akash', 'Python Programmer')\n",
    "\n",
    "print(a.name)\n",
    "print(a.occupation)\n",
    "\n",
    "a.info()"
   ]
  },
  {
   "cell_type": "markdown",
   "id": "62166876",
   "metadata": {},
   "source": [
    "Note that here we can pass exactly 2 arguments while defining object under class Engineer. Anything more or less won't work."
   ]
  },
  {
   "cell_type": "code",
   "execution_count": 4,
   "id": "e196c56d",
   "metadata": {},
   "outputs": [
    {
     "ename": "TypeError",
     "evalue": "Engineer.__init__() missing 2 required positional arguments: 'n' and 'occ'",
     "output_type": "error",
     "traceback": [
      "\u001b[1;31m---------------------------------------------------------------------------\u001b[0m",
      "\u001b[1;31mTypeError\u001b[0m                                 Traceback (most recent call last)",
      "Cell \u001b[1;32mIn[4], line 1\u001b[0m\n\u001b[1;32m----> 1\u001b[0m b \u001b[38;5;241m=\u001b[39m Engineer()\n",
      "\u001b[1;31mTypeError\u001b[0m: Engineer.__init__() missing 2 required positional arguments: 'n' and 'occ'"
     ]
    }
   ],
   "source": [
    "b = Engineer()"
   ]
  },
  {
   "cell_type": "code",
   "execution_count": 5,
   "id": "26306dda",
   "metadata": {},
   "outputs": [
    {
     "ename": "TypeError",
     "evalue": "Engineer.__init__() takes 3 positional arguments but 4 were given",
     "output_type": "error",
     "traceback": [
      "\u001b[1;31m---------------------------------------------------------------------------\u001b[0m",
      "\u001b[1;31mTypeError\u001b[0m                                 Traceback (most recent call last)",
      "Cell \u001b[1;32mIn[5], line 1\u001b[0m\n\u001b[1;32m----> 1\u001b[0m c \u001b[38;5;241m=\u001b[39m Engineer(\u001b[38;5;124m'\u001b[39m\u001b[38;5;124mAkriti\u001b[39m\u001b[38;5;124m'\u001b[39m, \u001b[38;5;124m'\u001b[39m\u001b[38;5;124mDesigner\u001b[39m\u001b[38;5;124m'\u001b[39m, \u001b[38;5;124m'\u001b[39m\u001b[38;5;124mEarth\u001b[39m\u001b[38;5;124m'\u001b[39m)\n",
      "\u001b[1;31mTypeError\u001b[0m: Engineer.__init__() takes 3 positional arguments but 4 were given"
     ]
    }
   ],
   "source": [
    "c = Engineer('Akriti', 'Designer', 'Earth')"
   ]
  },
  {
   "cell_type": "markdown",
   "id": "dcfc771d",
   "metadata": {},
   "source": [
    "Notice the TypeError in the last line of code. It says that 4 arguments were given but you gave only 3. Understand that the 'c' object here is also an argument which is passed in self automatically. Thus, it says it needs 3 positional argument but it practically needs just 2, one  is passed as the name of object. "
   ]
  }
 ],
 "metadata": {
  "kernelspec": {
   "display_name": "Python 3 (ipykernel)",
   "language": "python",
   "name": "python3"
  },
  "language_info": {
   "codemirror_mode": {
    "name": "ipython",
    "version": 3
   },
   "file_extension": ".py",
   "mimetype": "text/x-python",
   "name": "python",
   "nbconvert_exporter": "python",
   "pygments_lexer": "ipython3",
   "version": "3.11.4"
  }
 },
 "nbformat": 4,
 "nbformat_minor": 5
}
