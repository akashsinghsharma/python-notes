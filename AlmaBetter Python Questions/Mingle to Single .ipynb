{
 "cells": [
  {
   "cell_type": "markdown",
   "id": "d899fca5",
   "metadata": {},
   "source": [
    "In a competition, participants were given a number to sum its digits until it was a single-digit number. So, write a Python program to add the digits of a positive integer repeatedly until the result has a single digit."
   ]
  },
  {
   "cell_type": "markdown",
   "id": "e46ce520",
   "metadata": {},
   "source": [
    "Example 1:\n",
    "Input:\n",
    "\n",
    "7548\n",
    "Output:\n",
    "\n",
    "Step-1 Sum: 24\n",
    "\n",
    "Step-2 Sum: 6"
   ]
  },
  {
   "cell_type": "code",
   "execution_count": 1,
   "id": "ab9a461d",
   "metadata": {},
   "outputs": [
    {
     "name": "stdout",
     "output_type": "stream",
     "text": [
      "7548\n"
     ]
    }
   ],
   "source": [
    "n = int(input())"
   ]
  },
  {
   "cell_type": "code",
   "execution_count": 8,
   "id": "eb099d6e",
   "metadata": {},
   "outputs": [
    {
     "name": "stdout",
     "output_type": "stream",
     "text": [
      "Enter number: 7548\n",
      "Step-1 Sum: 24\n",
      "Step-2 Sum: 6\n"
     ]
    }
   ],
   "source": [
    "number = int(input(\"Enter number: \"))\n",
    "\n",
    "# Finding sum\n",
    "total_sum = 0\n",
    "step = 1\n",
    "\n",
    "condition = True\n",
    "\n",
    "while condition:\n",
    "    \n",
    "    while number:\n",
    "        total_sum += number%10\n",
    "        number //= 10\n",
    "    \n",
    "    print(\"Step-%d Sum: %d\" %(step, total_sum))\n",
    "    number = total_sum\n",
    "    total_sum = 0\n",
    "    step += 1\n",
    "    condition = number > 9"
   ]
  }
 ],
 "metadata": {
  "kernelspec": {
   "display_name": "Python 3 (ipykernel)",
   "language": "python",
   "name": "python3"
  },
  "language_info": {
   "codemirror_mode": {
    "name": "ipython",
    "version": 3
   },
   "file_extension": ".py",
   "mimetype": "text/x-python",
   "name": "python",
   "nbconvert_exporter": "python",
   "pygments_lexer": "ipython3",
   "version": "3.9.13"
  }
 },
 "nbformat": 4,
 "nbformat_minor": 5
}
