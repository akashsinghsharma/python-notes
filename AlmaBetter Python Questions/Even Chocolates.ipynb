{
 "cells": [
  {
   "cell_type": "markdown",
   "id": "7fad3091",
   "metadata": {},
   "source": [
    "Between the two numbers inclusive, kids were asked to take as many choclates as the largest even number of all. So, write a Python program for Alexa to take the required number of choclates."
   ]
  },
  {
   "cell_type": "code",
   "execution_count": 1,
   "id": "77d2d5b4",
   "metadata": {},
   "outputs": [
    {
     "name": "stdout",
     "output_type": "stream",
     "text": [
      "45\n",
      "5\n"
     ]
    }
   ],
   "source": [
    "m = int(input())\n",
    "n = int(input())"
   ]
  },
  {
   "cell_type": "code",
   "execution_count": 2,
   "id": "e0fa14f9",
   "metadata": {},
   "outputs": [
    {
     "data": {
      "text/plain": [
       "45"
      ]
     },
     "execution_count": 2,
     "metadata": {},
     "output_type": "execute_result"
    }
   ],
   "source": [
    "compare_num = 0\n",
    "if m>n:\n",
    "    compare_num = m\n",
    "else:\n",
    "    compare_num = n\n",
    "    \n",
    "compare_num"
   ]
  },
  {
   "cell_type": "code",
   "execution_count": 7,
   "id": "1041a3c9",
   "metadata": {},
   "outputs": [
    {
     "name": "stdout",
     "output_type": "stream",
     "text": [
      "Biggest even number between 5 and 45\n",
      "44\n"
     ]
    }
   ],
   "source": [
    "if compare_num%2 == 0:\n",
    "    print(f'Biggest even number between {n} and {m}\\n{compare_num}')\n",
    "\n",
    "else:\n",
    "    print(f'Biggest even number between {n} and {m}\\n{compare_num-1}')  "
   ]
  },
  {
   "cell_type": "code",
   "execution_count": null,
   "id": "b13b5bc6",
   "metadata": {},
   "outputs": [],
   "source": []
  }
 ],
 "metadata": {
  "kernelspec": {
   "display_name": "Python 3 (ipykernel)",
   "language": "python",
   "name": "python3"
  },
  "language_info": {
   "codemirror_mode": {
    "name": "ipython",
    "version": 3
   },
   "file_extension": ".py",
   "mimetype": "text/x-python",
   "name": "python",
   "nbconvert_exporter": "python",
   "pygments_lexer": "ipython3",
   "version": "3.9.13"
  }
 },
 "nbformat": 4,
 "nbformat_minor": 5
}
