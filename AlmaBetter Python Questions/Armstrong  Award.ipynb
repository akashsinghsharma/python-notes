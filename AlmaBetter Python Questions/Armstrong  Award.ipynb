{
 "cells": [
  {
   "cell_type": "code",
   "execution_count": null,
   "id": "b0f99189",
   "metadata": {},
   "outputs": [],
   "source": [
    "Q. Armstrong  Award"
   ]
  },
  {
   "cell_type": "markdown",
   "id": "8dd1ed3e",
   "metadata": {},
   "source": [
    "In a maths competition, the Armstrong award would be presented to the one who would first tell the Armstrong number among all given numbers. Thus, write a program for Sam in Python to help him won the award."
   ]
  },
  {
   "cell_type": "markdown",
   "id": "b302550b",
   "metadata": {},
   "source": [
    "What is Armstrong Number?\n",
    "\n",
    "It is a number which is equal to the sum of cube of its digits. For eg: 153, 370 etc.\n",
    "\n",
    "Let's take 153 for an example\n",
    "\n",
    "First calculate the cube of its each digits\n",
    "\n",
    "1^3 = (1 * 1 * 1) = 1\n",
    "\n",
    "5^3 = (5 * 5 * 5) = 125\n",
    "\n",
    "3^3= (3 * 3 * 3) = 27\n",
    "\n",
    "Now add the cube\n",
    "\n",
    "1+125+27 = 153\n",
    "\n",
    "It means 153 is an Armstrong Number."
   ]
  },
  {
   "cell_type": "code",
   "execution_count": 1,
   "id": "07551eb4",
   "metadata": {},
   "outputs": [
    {
     "name": "stdout",
     "output_type": "stream",
     "text": [
      "153\n"
     ]
    }
   ],
   "source": [
    "num = int(input())"
   ]
  },
  {
   "cell_type": "code",
   "execution_count": 11,
   "id": "16a8114f",
   "metadata": {},
   "outputs": [
    {
     "data": {
      "text/plain": [
       "[1, 5, 3]"
      ]
     },
     "execution_count": 11,
     "metadata": {},
     "output_type": "execute_result"
    }
   ],
   "source": [
    "list_of_num = []\n",
    "string_1 = str(num) #converting num into string so that we can iterate over it.\n",
    "for i in string_1:\n",
    "    list_of_num.append(int(i))\n",
    "   \n",
    "list_of_num"
   ]
  },
  {
   "cell_type": "code",
   "execution_count": 17,
   "id": "31f83f43",
   "metadata": {},
   "outputs": [
    {
     "data": {
      "text/plain": [
       "[1, 125, 27]"
      ]
     },
     "execution_count": 17,
     "metadata": {},
     "output_type": "execute_result"
    }
   ],
   "source": [
    "list_of_squared = []\n",
    "for i in list_of_num:\n",
    "    list_of_squared.append(int(pow(i, 3))) #pow(x,y) is power operator in python.\n",
    "    \n",
    "list_of_squared"
   ]
  },
  {
   "cell_type": "code",
   "execution_count": 18,
   "id": "2d4155cb",
   "metadata": {},
   "outputs": [
    {
     "data": {
      "text/plain": [
       "153"
      ]
     },
     "execution_count": 18,
     "metadata": {},
     "output_type": "execute_result"
    }
   ],
   "source": [
    "sum_of_squared = sum(list_of_squared)\n",
    "sum_of_squared"
   ]
  },
  {
   "cell_type": "code",
   "execution_count": 20,
   "id": "d3fcf2e1",
   "metadata": {},
   "outputs": [
    {
     "name": "stdout",
     "output_type": "stream",
     "text": [
      "Number is Armstrong\n"
     ]
    }
   ],
   "source": [
    "if num == sum_of_squared:\n",
    "    print('Number is Armstrong')\n",
    "    \n",
    "else:\n",
    "    print('Number is not Armstrong')"
   ]
  }
 ],
 "metadata": {
  "kernelspec": {
   "display_name": "Python 3 (ipykernel)",
   "language": "python",
   "name": "python3"
  },
  "language_info": {
   "codemirror_mode": {
    "name": "ipython",
    "version": 3
   },
   "file_extension": ".py",
   "mimetype": "text/x-python",
   "name": "python",
   "nbconvert_exporter": "python",
   "pygments_lexer": "ipython3",
   "version": "3.9.13"
  }
 },
 "nbformat": 4,
 "nbformat_minor": 5
}
