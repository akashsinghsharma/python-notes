{
  "nbformat": 4,
  "nbformat_minor": 0,
  "metadata": {
    "colab": {
      "provenance": [],
      "authorship_tag": "ABX9TyOUixWiXan5/04sgR0L/fCb",
      "include_colab_link": true
    },
    "kernelspec": {
      "name": "python3",
      "display_name": "Python 3"
    },
    "language_info": {
      "name": "python"
    }
  },
  "cells": [
    {
      "cell_type": "markdown",
      "metadata": {
        "id": "view-in-github",
        "colab_type": "text"
      },
      "source": [
        "<a href=\"https://colab.research.google.com/github/akashsinghsharma/python-notes/blob/main/Essential_DSA_for_Data_Science_and_Analytics.ipynb\" target=\"_parent\"><img src=\"https://colab.research.google.com/assets/colab-badge.svg\" alt=\"Open In Colab\"/></a>"
      ]
    },
    {
      "cell_type": "markdown",
      "source": [
        "# Basics of Programming - one\n",
        "***"
      ],
      "metadata": {
        "id": "UoCuSpmL6sOY"
      }
    },
    {
      "cell_type": "markdown",
      "source": [
        "This part will go through some of basics of programming and cover some very basic questions."
      ],
      "metadata": {
        "id": "zFVNqOBj63on"
      }
    },
    {
      "cell_type": "markdown",
      "source": [
        "**Some good practices during interview.**\n",
        "***\n",
        "1. In interviews, something called a pattern printing is asked quite a lot of times. We can do it with hardcore programming, but better to do it with flexibility to change the size shape of pattern in required inputs.\n",
        "\n",
        "2. Microservices: A work is broken down in multiple work, when subworks are done than work is done. This is called microservices. To achieve something, its a good idea to break it down into many function."
      ],
      "metadata": {
        "id": "MdaFWZ7p7hNV"
      }
    },
    {
      "cell_type": "markdown",
      "source": [
        "Let's go through some basic questions."
      ],
      "metadata": {
        "id": "KynIzdkEBXsu"
      }
    },
    {
      "cell_type": "code",
      "execution_count": 15,
      "metadata": {
        "id": "KAD43ndluftD"
      },
      "outputs": [],
      "source": [
        "# q1. https://leetcode.com/problems/fibonacci-number/description/\n",
        "\n",
        "def fibo(n):\n",
        "\n",
        "  n0 = 0\n",
        "  n1 = 1\n",
        "\n",
        "  fibo_list = [n0, n1]\n",
        "\n",
        "  for _ in range(n-1):\n",
        "    n2 = n0 + n1\n",
        "    n0 = n1\n",
        "    n1 = n2\n",
        "    fibo_list.append(n2)\n",
        "\n",
        "  return fibo_list[-1]"
      ]
    },
    {
      "cell_type": "code",
      "source": [
        "fibo(1)"
      ],
      "metadata": {
        "colab": {
          "base_uri": "https://localhost:8080/"
        },
        "id": "bHgPymQm_EKR",
        "outputId": "170a0509-c155-4e9c-de40-4b540bce0fc0"
      },
      "execution_count": 18,
      "outputs": [
        {
          "output_type": "execute_result",
          "data": {
            "text/plain": [
              "1"
            ]
          },
          "metadata": {},
          "execution_count": 18
        }
      ]
    },
    {
      "cell_type": "code",
      "source": [],
      "metadata": {
        "id": "8l40QHflCGd4"
      },
      "execution_count": null,
      "outputs": []
    }
  ]
}