{
  "nbformat": 4,
  "nbformat_minor": 0,
  "metadata": {
    "colab": {
      "provenance": [],
      "authorship_tag": "ABX9TyMe3Ou1/7t7YM+OtelXyG9Y",
      "include_colab_link": true
    },
    "kernelspec": {
      "name": "python3",
      "display_name": "Python 3"
    },
    "language_info": {
      "name": "python"
    }
  },
  "cells": [
    {
      "cell_type": "markdown",
      "metadata": {
        "id": "view-in-github",
        "colab_type": "text"
      },
      "source": [
        "<a href=\"https://colab.research.google.com/github/akashsinghsharma/python-notes/blob/main/Essential_DSA_for_Data_Science_and_Analytics.ipynb\" target=\"_parent\"><img src=\"https://colab.research.google.com/assets/colab-badge.svg\" alt=\"Open In Colab\"/></a>"
      ]
    },
    {
      "cell_type": "markdown",
      "source": [
        "# Basics of Programming - one\n",
        "***"
      ],
      "metadata": {
        "id": "UoCuSpmL6sOY"
      }
    },
    {
      "cell_type": "markdown",
      "source": [
        "This part will go through some of basics of programming and cover some very basic questions."
      ],
      "metadata": {
        "id": "zFVNqOBj63on"
      }
    },
    {
      "cell_type": "markdown",
      "source": [
        "**Some good practices during interview.**\n",
        "***\n",
        "1. In interviews, something called a pattern printing is asked quite a lot of times. We can do it with hardcore programming, but better to do it with flexibility to change the size shape of pattern in required inputs.\n",
        "\n",
        "2. Microservices: A work is broken down in multiple work, when subworks are done than work is done. This is called microservices. To achieve something, its a good idea to break it down into many function."
      ],
      "metadata": {
        "id": "MdaFWZ7p7hNV"
      }
    },
    {
      "cell_type": "markdown",
      "source": [
        "Let's go through some basic questions."
      ],
      "metadata": {
        "id": "KynIzdkEBXsu"
      }
    },
    {
      "cell_type": "code",
      "execution_count": null,
      "metadata": {
        "id": "KAD43ndluftD"
      },
      "outputs": [],
      "source": [
        "# q1. https://leetcode.com/problems/fibonacci-number/description/\n",
        "\n",
        "def fibo(n):\n",
        "\n",
        "  n0 = 0\n",
        "  n1 = 1\n",
        "\n",
        "  fibo_list = [n0, n1]\n",
        "\n",
        "  for _ in range(n-1):\n",
        "    n2 = n0 + n1\n",
        "    n0 = n1\n",
        "    n1 = n2\n",
        "    fibo_list.append(n2)\n",
        "\n",
        "  return fibo_list[-1]"
      ]
    },
    {
      "cell_type": "code",
      "source": [
        "fibo(10)"
      ],
      "metadata": {
        "colab": {
          "base_uri": "https://localhost:8080/"
        },
        "id": "bHgPymQm_EKR",
        "outputId": "7ff860f1-d644-45cd-c5f9-38269cae664e"
      },
      "execution_count": null,
      "outputs": [
        {
          "output_type": "execute_result",
          "data": {
            "text/plain": [
              "55"
            ]
          },
          "metadata": {},
          "execution_count": 4
        }
      ]
    },
    {
      "cell_type": "code",
      "source": [],
      "metadata": {
        "id": "8l40QHflCGd4"
      },
      "execution_count": null,
      "outputs": []
    },
    {
      "cell_type": "markdown",
      "source": [
        "***\n",
        "# Pattern Problem in Python\n",
        "***"
      ],
      "metadata": {
        "id": "4T-d4WwrK24B"
      }
    },
    {
      "cell_type": "markdown",
      "source": [
        "There is a generic way to solve almost all python pattern problem (or other language, here I will focus on Python)\n",
        "\n",
        "1. focus on the first line\n",
        "2. count no of stars and no of spaces\n",
        "3. make it generic equation using table\n",
        "4. write relation of rth line and (r+1)th line"
      ],
      "metadata": {
        "id": "G3mWOrbMK8tZ"
      }
    },
    {
      "cell_type": "markdown",
      "source": [
        "Q1. Print following pattern for n = 5. The shape will change as n will change.:\n",
        "\n",
        "```\n",
        "\n",
        "                  *\n",
        "                * *\n",
        "              * * *\n",
        "            * * * *\n",
        "          * * * * *\n",
        "        * * * * * *\n",
        "      * * * * * * *\n",
        "    * * * * * * * *\n",
        "  * * * * * * * * *\n",
        "* * * * * * * * * *\n",
        "```\n",
        "\n"
      ],
      "metadata": {
        "id": "QC_jWwD1LSzE"
      }
    },
    {
      "cell_type": "code",
      "source": [
        "def pattern_01(N):\n",
        "    nst = 1 #nst is number of star, focus on first line. See how many there are in first line\n",
        "    nsp = N - 1 #nsp is number of space, again see first line.\n",
        "\n",
        "    # Observe and make a table for if n is 5, 6, etc. Note the relation and how will nst change in different n. nst will remain 1 always, however nsp will change.\n",
        "    # nsp will be n - 1.\n",
        "\n",
        "    for r in range(1, N + 1): #we are running loop to print n lines, so 1 to n+1.\n",
        "        # print spaces first (according to this problem, we are looping first for space.\n",
        "        for csp in range(1, nsp + 1):    #csp is count of space\n",
        "            print(\"  \", end=\"\")   #Note I am putting two spaces here, pattern will look at same just a bit clear.\n",
        "                                  #Note that by default print changes line and have end = '\\n'. We are changing it.\n",
        "\n",
        "        # after space, we will print stars\n",
        "        for cst in range(1, nst + 1):    #cst is count of star\n",
        "            print(\"* \", end=\"\")    #Here there is one space after *.\n",
        "\n",
        "        nst += 1    #Here we are writting relation between rth and r+1 line. number of stars are increasing and number of space is decreasing.\n",
        "        nsp -= 1\n",
        "        print()    #This will just change the line after every one line"
      ],
      "metadata": {
        "id": "Zq3LMJPtLd_8"
      },
      "execution_count": null,
      "outputs": []
    },
    {
      "cell_type": "code",
      "source": [
        "pattern_01(10)"
      ],
      "metadata": {
        "colab": {
          "base_uri": "https://localhost:8080/"
        },
        "id": "tmr61IElPJ8Q",
        "outputId": "45072186-a1c6-4940-f01b-6e78c99fb334"
      },
      "execution_count": null,
      "outputs": [
        {
          "output_type": "stream",
          "name": "stdout",
          "text": [
            "                  * \n",
            "                * * \n",
            "              * * * \n",
            "            * * * * \n",
            "          * * * * * \n",
            "        * * * * * * \n",
            "      * * * * * * * \n",
            "    * * * * * * * * \n",
            "  * * * * * * * * * \n",
            "* * * * * * * * * * \n"
          ]
        }
      ]
    },
    {
      "cell_type": "markdown",
      "source": [
        "Q2. Print following pattern for n = 5. The shape will change as n will change.:\n",
        "\n",
        "```\n",
        "* * * * *\n",
        "  * * * *\n",
        "    * * *\n",
        "      * *\n",
        "        *\n",
        "```"
      ],
      "metadata": {
        "id": "yLNagZXmWh9P"
      }
    },
    {
      "cell_type": "code",
      "source": [
        "def pattern_02(N):\n",
        "    nst = N\n",
        "    nsp = 0\n",
        "\n",
        "    for r in range(1, N + 1):\n",
        "        # spaces\n",
        "        for csp in range(1, nsp + 1):\n",
        "            print(\"  \", end=\"\")\n",
        "\n",
        "        # star\n",
        "        for cst in range(1, nst + 1):\n",
        "            print(\"* \", end=\"\")\n",
        "\n",
        "        nst -= 1\n",
        "        nsp += 1\n",
        "        print()"
      ],
      "metadata": {
        "id": "jcZD9f7yPNnI"
      },
      "execution_count": null,
      "outputs": []
    },
    {
      "cell_type": "code",
      "source": [
        "pattern_02(5)"
      ],
      "metadata": {
        "colab": {
          "base_uri": "https://localhost:8080/"
        },
        "id": "-enoMEFgXoE4",
        "outputId": "47846185-a3a4-4451-f679-9dcaf8491bc9"
      },
      "execution_count": null,
      "outputs": [
        {
          "output_type": "stream",
          "name": "stdout",
          "text": [
            "* * * * * \n",
            "  * * * * \n",
            "    * * * \n",
            "      * * \n",
            "        * \n"
          ]
        }
      ]
    },
    {
      "cell_type": "markdown",
      "source": [
        "Q3. Print following pattern for n = 5. The shape will change as n will change.:\n",
        "\n",
        "```\n",
        "\n",
        "*\n",
        "* *\n",
        "* * *\n",
        "* * * *\n",
        "* * * * *\n",
        "```"
      ],
      "metadata": {
        "id": "R2R5S6L4aP4G"
      }
    },
    {
      "cell_type": "code",
      "source": [
        "def pattern_03(N):\n",
        "    nst = 1\n",
        "    nsp = 0 #No space before star. There is just one star and blank.\n",
        "\n",
        "    for r in range(1, N + 1):\n",
        "        # star pattern: as there are space by default. we just need to print *\n",
        "        for cst in range(1, nst + 1):\n",
        "            print(\"* \", end=\"\")\n",
        "\n",
        "        nst += 1\n",
        "        print()"
      ],
      "metadata": {
        "id": "GFsrRk4uaPPP"
      },
      "execution_count": null,
      "outputs": []
    },
    {
      "cell_type": "code",
      "source": [
        "pattern_03(5)"
      ],
      "metadata": {
        "colab": {
          "base_uri": "https://localhost:8080/"
        },
        "id": "0fGPfvrkXr8D",
        "outputId": "86b12aa0-9bf5-4e8d-f8b3-ea16f6aa1c89"
      },
      "execution_count": null,
      "outputs": [
        {
          "output_type": "stream",
          "name": "stdout",
          "text": [
            "* \n",
            "* * \n",
            "* * * \n",
            "* * * * \n",
            "* * * * * \n"
          ]
        }
      ]
    },
    {
      "cell_type": "markdown",
      "source": [
        "Q4. Print following pattern for n = 5. The shape will change as n will change.:\n",
        "\n",
        "```\n",
        "\n",
        "* * * * *\n",
        "* * * *\n",
        "* * *\n",
        "* *\n",
        "*\n",
        "```"
      ],
      "metadata": {
        "id": "mDw4wSqPbVW-"
      }
    },
    {
      "cell_type": "code",
      "source": [
        "def pattern_04(N):\n",
        "    nst = N\n",
        "    nsp = 0\n",
        "\n",
        "    for r in range(1, N + 1):\n",
        "        # for star\n",
        "        for cst in range(1, nst + 1):\n",
        "            print(\"* \", end=\"\")\n",
        "\n",
        "        nst -= 1\n",
        "        print()"
      ],
      "metadata": {
        "id": "muxcLfliabRz"
      },
      "execution_count": null,
      "outputs": []
    },
    {
      "cell_type": "code",
      "source": [
        "pattern_04(5)"
      ],
      "metadata": {
        "colab": {
          "base_uri": "https://localhost:8080/"
        },
        "id": "JL352yU7baTj",
        "outputId": "f4f9fa79-6698-416d-dbdd-3935148f7c70"
      },
      "execution_count": null,
      "outputs": [
        {
          "output_type": "stream",
          "name": "stdout",
          "text": [
            "* * * * * \n",
            "* * * * \n",
            "* * * \n",
            "* * \n",
            "* \n"
          ]
        }
      ]
    },
    {
      "cell_type": "markdown",
      "source": [
        "Q5. Print following pattern for n = 10\n",
        "```\n",
        "1  \n",
        "2  3  \n",
        "4  5  6  \n",
        "7  8  9  10  \n",
        "11  12  13  14  15  \n",
        "16  17  18  19  20  21  \n",
        "22  23  24  25  26  27  28  \n",
        "29  30  31  32  33  34  35  36  \n",
        "37  38  39  40  41  42  43  44  45  \n",
        "46  47  48  49  50  51  52  53  54  55\n",
        "```"
      ],
      "metadata": {
        "id": "BrPh1qiAbyK-"
      }
    },
    {
      "cell_type": "markdown",
      "source": [
        "If we can print star of that pattern, we just need to change it with number. Here we can print star using a simple for loop, for star. Replace it with count. Initiate count with 1."
      ],
      "metadata": {
        "id": "3oX56IAnq4OI"
      }
    },
    {
      "cell_type": "code",
      "source": [
        "def pattern_05(N):\n",
        "    nst = 1\n",
        "    count = 1\n",
        "    for r in range(1, N + 1):\n",
        "        for cst in range(1, nst + 1):\n",
        "            print(count, \" \", end=\"\")\n",
        "            count += 1\n",
        "\n",
        "        nst += 1\n",
        "        print()"
      ],
      "metadata": {
        "id": "aW5e_Hr1bcVZ"
      },
      "execution_count": 1,
      "outputs": []
    },
    {
      "cell_type": "code",
      "source": [
        "pattern_05(10)"
      ],
      "metadata": {
        "colab": {
          "base_uri": "https://localhost:8080/"
        },
        "id": "rHFc3Fr2bsFL",
        "outputId": "773e12f0-2d8b-45a3-ec5c-10fc1ed6e6a9"
      },
      "execution_count": 2,
      "outputs": [
        {
          "output_type": "stream",
          "name": "stdout",
          "text": [
            "1  \n",
            "2  3  \n",
            "4  5  6  \n",
            "7  8  9  10  \n",
            "11  12  13  14  15  \n",
            "16  17  18  19  20  21  \n",
            "22  23  24  25  26  27  28  \n",
            "29  30  31  32  33  34  35  36  \n",
            "37  38  39  40  41  42  43  44  45  \n",
            "46  47  48  49  50  51  52  53  54  55  \n"
          ]
        }
      ]
    },
    {
      "cell_type": "markdown",
      "source": [
        "Q6. Print a pattern for n = 5.\n",
        "\n",
        "```\n",
        "0  \n",
        "1  1  \n",
        "2  3  5  \n",
        "8  13  21  34  \n",
        "55  89  144  233  377\n",
        "```"
      ],
      "metadata": {
        "id": "O1KiUQQurjDX"
      }
    },
    {
      "cell_type": "markdown",
      "source": [
        "We need to replace star with fibo series here."
      ],
      "metadata": {
        "id": "S55j1jfxryZr"
      }
    },
    {
      "cell_type": "code",
      "source": [
        "def pattern_06(N):\n",
        "    nst = 1\n",
        "    a = 0\n",
        "    b = 1\n",
        "    for r in range(1, N + 1):\n",
        "        # star\n",
        "        for cst in range(1, nst + 1):\n",
        "            print(a, \" \", end=\"\")\n",
        "            sum = a + b\n",
        "            a = b\n",
        "            b = sum\n",
        "\n",
        "        nst += 1\n",
        "        print()"
      ],
      "metadata": {
        "id": "LrbGj2kdbthb"
      },
      "execution_count": 3,
      "outputs": []
    },
    {
      "cell_type": "code",
      "source": [
        "pattern_06(5)"
      ],
      "metadata": {
        "colab": {
          "base_uri": "https://localhost:8080/"
        },
        "id": "Cx0b7m9hrbIh",
        "outputId": "f8b06ff3-5dd7-495d-ddd9-b6ad7dd4b882"
      },
      "execution_count": 4,
      "outputs": [
        {
          "output_type": "stream",
          "name": "stdout",
          "text": [
            "0  \n",
            "1  1  \n",
            "2  3  5  \n",
            "8  13  21  34  \n",
            "55  89  144  233  377  \n"
          ]
        }
      ]
    },
    {
      "cell_type": "markdown",
      "source": [
        "Q7. Print bionomial series.\n",
        "\n",
        "```\n",
        "1  \n",
        "1  1.0  \n",
        "1  2.0  1.0  \n",
        "1  3.0  3.0  1.0  \n",
        "1  4.0  6.0  4.0  1.0\n",
        "```"
      ],
      "metadata": {
        "id": "9VA6Q1gZsTbV"
      }
    },
    {
      "cell_type": "markdown",
      "source": [
        ">This is a standard que have been asked in interview a number of times"
      ],
      "metadata": {
        "id": "HIjzwm4JsaTA"
      }
    },
    {
      "cell_type": "markdown",
      "source": [
        "It's following pattern of\n",
        "\n",
        "```\n",
        "0C0\n",
        "1C0   1C1\n",
        "2C0   2C1   2C2\n",
        "3C0   3C1   3C2    3C3\n",
        "```\n",
        "\n",
        "ncr = n!/(n-r)!r!\n",
        "\n",
        ">Here, we will see relation between ncr and nc(r+1).\n",
        ">nc(r+1) = ( (n-r) / (r+1) ) * ncr"
      ],
      "metadata": {
        "id": "l6WnmbTctFv1"
      }
    },
    {
      "cell_type": "code",
      "source": [
        "def pattern07_binomialSeries(N):\n",
        "    nst = 1\n",
        "    for n in range(0, N):\n",
        "        # star\n",
        "        val = 1\n",
        "        for r in range(0, nst):\n",
        "            print(val, \" \", end=\"\")\n",
        "            val = (n - r) * val / (r + 1)\n",
        "\n",
        "        nst += 1\n",
        "        print()"
      ],
      "metadata": {
        "id": "s67O2Caerc7Q"
      },
      "execution_count": 5,
      "outputs": []
    },
    {
      "cell_type": "code",
      "source": [
        "pattern07_binomialSeries(5)"
      ],
      "metadata": {
        "colab": {
          "base_uri": "https://localhost:8080/"
        },
        "id": "Zc_1e5K1sPXx",
        "outputId": "33c2bd87-0b47-4837-e1cb-9af766d6122e"
      },
      "execution_count": 6,
      "outputs": [
        {
          "output_type": "stream",
          "name": "stdout",
          "text": [
            "1  \n",
            "1  1.0  \n",
            "1  2.0  1.0  \n",
            "1  3.0  3.0  1.0  \n",
            "1  4.0  6.0  4.0  1.0  \n"
          ]
        }
      ]
    },
    {
      "cell_type": "markdown",
      "source": [
        "Intresting observation, this same pattern is power of 11 as well.\n",
        "\n",
        ">11**0 = 1\n",
        "\n",
        ">11**1 = 11\n",
        "\n",
        ">11**2 = 121\n",
        "\n",
        ">11**3 = 1331"
      ],
      "metadata": {
        "id": "DKlDc5PcwTVP"
      }
    },
    {
      "cell_type": "code",
      "source": [
        "# input n\n",
        "n = 5\n",
        "\n",
        "# iterarte upto n\n",
        "for i in range(n):\n",
        "    # adjust space\n",
        "    print(' '*(n-i), end='')\n",
        "\n",
        "    # compute power of 11\n",
        "    print(' '.join(map(str, str(11**i))))"
      ],
      "metadata": {
        "colab": {
          "base_uri": "https://localhost:8080/"
        },
        "id": "gdBi5-wrsRc_",
        "outputId": "8589cac5-a544-49a7-f8ee-d3aa1f096729"
      },
      "execution_count": 7,
      "outputs": [
        {
          "output_type": "stream",
          "name": "stdout",
          "text": [
            "     1\n",
            "    1 1\n",
            "   1 2 1\n",
            "  1 3 3 1\n",
            " 1 4 6 4 1\n"
          ]
        }
      ]
    },
    {
      "cell_type": "markdown",
      "source": [
        ">This is called pascal's traiangle. Read more.\n",
        "[click to read more](https://www.geeksforgeeks.org/python-program-to-print-pascals-triangle/)"
      ],
      "metadata": {
        "id": "waczziuhw1zX"
      }
    },
    {
      "cell_type": "markdown",
      "source": [
        "Q8. Print following prymind pattern for N=10.\n",
        "\n",
        "```\n",
        "                  *\n",
        "                * * *\n",
        "              * * * * *\n",
        "            * * * * * * *\n",
        "          * * * * * * * * *\n",
        "        * * * * * * * * * * *\n",
        "      * * * * * * * * * * * * *\n",
        "    * * * * * * * * * * * * * * *\n",
        "  * * * * * * * * * * * * * * * * *\n",
        "* * * * * * * * * * * * * * * * * * *\n",
        "```"
      ],
      "metadata": {
        "id": "95zv0jUuxHJq"
      }
    },
    {
      "cell_type": "code",
      "source": [
        "def pattern08_pyramid(N):\n",
        "    nst = 1\n",
        "    nsp = N - 1\n",
        "\n",
        "    for r in range(1, N + 1):\n",
        "        # spaces\n",
        "        for csp in range(1, nsp + 1):\n",
        "            print(\"  \", end=\"\")\n",
        "\n",
        "        # star\n",
        "        for cst in range(1, nst + 1):\n",
        "            print(\"* \", end=\"\")\n",
        "\n",
        "        nst += 2\n",
        "        nsp -= 1\n",
        "        print()"
      ],
      "metadata": {
        "id": "bhxTy8HVwmIC"
      },
      "execution_count": 8,
      "outputs": []
    },
    {
      "cell_type": "code",
      "source": [
        "pattern08_pyramid(10)"
      ],
      "metadata": {
        "colab": {
          "base_uri": "https://localhost:8080/"
        },
        "id": "TvS-fNXnxCZp",
        "outputId": "b298c2a2-162f-4b3d-818d-5edf37c5a724"
      },
      "execution_count": 9,
      "outputs": [
        {
          "output_type": "stream",
          "name": "stdout",
          "text": [
            "                  * \n",
            "                * * * \n",
            "              * * * * * \n",
            "            * * * * * * * \n",
            "          * * * * * * * * * \n",
            "        * * * * * * * * * * * \n",
            "      * * * * * * * * * * * * * \n",
            "    * * * * * * * * * * * * * * * \n",
            "  * * * * * * * * * * * * * * * * * \n",
            "* * * * * * * * * * * * * * * * * * * \n"
          ]
        }
      ]
    },
    {
      "cell_type": "markdown",
      "source": [
        "Q09. Print following prymind structure in python for n=10.\n",
        "\n",
        "```\n",
        "* * * * * * * * * * * * * * * * * * *\n",
        "  * * * * * * * * * * * * * * * * *\n",
        "    * * * * * * * * * * * * * * *\n",
        "      * * * * * * * * * * * * *\n",
        "        * * * * * * * * * * *\n",
        "          * * * * * * * * *\n",
        "            * * * * * * *\n",
        "              * * * * *\n",
        "                * * *\n",
        "                  *\n",
        "```"
      ],
      "metadata": {
        "id": "lU5n5Wrpx3IE"
      }
    },
    {
      "cell_type": "code",
      "source": [
        "def pattern09_inversePyramid(N):\n",
        "    nst = 2 * N - 1\n",
        "    nsp = 0\n",
        "\n",
        "    for r in range(1, N + 1):\n",
        "        # spaces\n",
        "        for csp in range(1, nsp + 1):\n",
        "            print(\"  \", end=\"\")\n",
        "\n",
        "        # star\n",
        "        for cst in range(1, nst + 1):\n",
        "            print(\"* \", end=\"\")\n",
        "\n",
        "        nst -= 2\n",
        "        nsp += 1\n",
        "        print()"
      ],
      "metadata": {
        "id": "9A9RyHlexE4G"
      },
      "execution_count": 10,
      "outputs": []
    },
    {
      "cell_type": "code",
      "source": [
        "pattern09_inversePyramid(10)"
      ],
      "metadata": {
        "colab": {
          "base_uri": "https://localhost:8080/"
        },
        "id": "-UornoO9x0WK",
        "outputId": "877e7a42-5389-4a82-ec1b-ff2081647930"
      },
      "execution_count": 11,
      "outputs": [
        {
          "output_type": "stream",
          "name": "stdout",
          "text": [
            "* * * * * * * * * * * * * * * * * * * \n",
            "  * * * * * * * * * * * * * * * * * \n",
            "    * * * * * * * * * * * * * * * \n",
            "      * * * * * * * * * * * * * \n",
            "        * * * * * * * * * * * \n",
            "          * * * * * * * * * \n",
            "            * * * * * * * \n",
            "              * * * * * \n",
            "                * * * \n",
            "                  * \n"
          ]
        }
      ]
    },
    {
      "cell_type": "markdown",
      "source": [
        "Q10. Print following prynimd pattern of number for n = 10.\n",
        "\n",
        "```\n",
        "                  1  \n",
        "                1  2  1  \n",
        "              1  2  3  2  1  \n",
        "            1  2  3  4  3  2  1  \n",
        "          1  2  3  4  5  4  3  2  1  \n",
        "        1  2  3  4  5  6  5  4  3  2  1  \n",
        "      1  2  3  4  5  6  7  6  5  4  3  2  1  \n",
        "    1  2  3  4  5  6  7  8  7  6  5  4  3  2  1  \n",
        "  1  2  3  4  5  6  7  8  9  8  7  6  5  4  3  2  1  \n",
        "1  2  3  4  5  6  7  8  9  10  9  8  7  6  5  4  3  2  1\n",
        "```"
      ],
      "metadata": {
        "id": "8rcHpPeTzYCS"
      }
    },
    {
      "cell_type": "code",
      "source": [
        "def pattern10_NumberPyramid(N):\n",
        "    nst = 1\n",
        "    nsp = N - 1\n",
        "\n",
        "    for r in range(1, N + 1):\n",
        "        # spaces\n",
        "        for csp in range(1, nsp + 1):\n",
        "            print(\"  \", end=\"\")\n",
        "\n",
        "        # star\n",
        "        count = 1\n",
        "        for cst in range(1, nst + 1):\n",
        "            print(count, \" \", end=\"\")\n",
        "            if cst <= nst / 2:\n",
        "                count += 1\n",
        "            else:\n",
        "                count -= 1\n",
        "\n",
        "        nst += 2\n",
        "        nsp -= 1\n",
        "        print()"
      ],
      "metadata": {
        "id": "aDFFkdabx1Vp"
      },
      "execution_count": 14,
      "outputs": []
    },
    {
      "cell_type": "code",
      "source": [
        "pattern10_NumberPyramid(10)"
      ],
      "metadata": {
        "colab": {
          "base_uri": "https://localhost:8080/"
        },
        "id": "NY4jSFb5zT8Y",
        "outputId": "2a1a60fd-1980-44d0-ccd0-cb63cfa703ac"
      },
      "execution_count": 15,
      "outputs": [
        {
          "output_type": "stream",
          "name": "stdout",
          "text": [
            "                  1  \n",
            "                1  2  1  \n",
            "              1  2  3  2  1  \n",
            "            1  2  3  4  3  2  1  \n",
            "          1  2  3  4  5  4  3  2  1  \n",
            "        1  2  3  4  5  6  5  4  3  2  1  \n",
            "      1  2  3  4  5  6  7  6  5  4  3  2  1  \n",
            "    1  2  3  4  5  6  7  8  7  6  5  4  3  2  1  \n",
            "  1  2  3  4  5  6  7  8  9  8  7  6  5  4  3  2  1  \n",
            "1  2  3  4  5  6  7  8  9  10  9  8  7  6  5  4  3  2  1  \n"
          ]
        }
      ]
    },
    {
      "cell_type": "markdown",
      "source": [
        "Q11. Print following pattern:\n",
        "\n",
        "```\n",
        "                  1  \n",
        "                1  2  1.0  \n",
        "              1  2  4  2.0  1.0  \n",
        "            1  2  4  8  4.0  2.0  1.0  \n",
        "          1  2  4  8  16  8.0  4.0  2.0  1.0  \n",
        "        1  2  4  8  16  32  16.0  8.0  4.0  2.0  1.0  \n",
        "      1  2  4  8  16  32  64  32.0  16.0  8.0  4.0  2.0  1.0  \n",
        "    1  2  4  8  16  32  64  128  64.0  32.0  16.0  8.0  4.0  2.0  1.0  \n",
        "  1  2  4  8  16  32  64  128  256  128.0  64.0  32.0  16.0  8.0  4.0  2.0  1.0  \n",
        "1  2  4  8  16  32  64  128  256  512  256.0  128.0  64.0  32.0  16.0  8.0  4.0  2.0  1.0\n",
        "```"
      ],
      "metadata": {
        "id": "_m6f_ztG00hO"
      }
    },
    {
      "cell_type": "code",
      "source": [
        "def pattern11_NumberPyramid_02(N):\n",
        "    nst = 1\n",
        "    nsp = N - 1\n",
        "\n",
        "    for r in range(1, N + 1):\n",
        "        # spaces\n",
        "        for csp in range(1, nsp + 1):\n",
        "            print(\"  \", end=\"\")\n",
        "\n",
        "        # star\n",
        "        val = 1\n",
        "        for cst in range(1, nst + 1):\n",
        "            print(val, \" \", end=\"\")\n",
        "            if cst <= nst / 2:\n",
        "                val *= 2\n",
        "            else:\n",
        "                val /= 2\n",
        "\n",
        "        nst += 2\n",
        "        nsp -= 1\n",
        "        print()"
      ],
      "metadata": {
        "id": "1TpBeqrjzWE_"
      },
      "execution_count": 16,
      "outputs": []
    },
    {
      "cell_type": "code",
      "source": [
        "pattern11_NumberPyramid_02(10)"
      ],
      "metadata": {
        "colab": {
          "base_uri": "https://localhost:8080/"
        },
        "id": "v8US4KLy0m5o",
        "outputId": "f9fd20e4-1ddb-4fd5-9b6b-ba05838cb397"
      },
      "execution_count": 17,
      "outputs": [
        {
          "output_type": "stream",
          "name": "stdout",
          "text": [
            "                  1  \n",
            "                1  2  1.0  \n",
            "              1  2  4  2.0  1.0  \n",
            "            1  2  4  8  4.0  2.0  1.0  \n",
            "          1  2  4  8  16  8.0  4.0  2.0  1.0  \n",
            "        1  2  4  8  16  32  16.0  8.0  4.0  2.0  1.0  \n",
            "      1  2  4  8  16  32  64  32.0  16.0  8.0  4.0  2.0  1.0  \n",
            "    1  2  4  8  16  32  64  128  64.0  32.0  16.0  8.0  4.0  2.0  1.0  \n",
            "  1  2  4  8  16  32  64  128  256  128.0  64.0  32.0  16.0  8.0  4.0  2.0  1.0  \n",
            "1  2  4  8  16  32  64  128  256  512  256.0  128.0  64.0  32.0  16.0  8.0  4.0  2.0  1.0  \n"
          ]
        }
      ]
    },
    {
      "cell_type": "markdown",
      "source": [
        "Q12. Print following pattern:\n",
        "\n",
        "```\n",
        "        *\n",
        "      * * *\n",
        "    * * * * *\n",
        "  * * * * * * *\n",
        "* * * * * * * * *\n",
        "  * * * * * * *\n",
        "    * * * * *\n",
        "      * * *\n",
        "        *\n",
        "```\n",
        "\n",
        "Note that the input will always be odd here."
      ],
      "metadata": {
        "id": "QVPJhEgh1Sb4"
      }
    },
    {
      "cell_type": "code",
      "source": [
        "def pattern12_diamond(N):\n",
        "    nst = 1\n",
        "    nsp = int(N / 2)\n",
        "\n",
        "    for r in range(1, N + 1):\n",
        "        # spaces\n",
        "        for csp in range(1, nsp + 1):\n",
        "            print(\"  \", end=\"\")\n",
        "\n",
        "        # star\n",
        "        for cst in range(1, nst + 1):\n",
        "            print(\"* \", end=\"\")\n",
        "\n",
        "        if r <= N / 2:\n",
        "            nst += 2\n",
        "            nsp -= 1\n",
        "        else:\n",
        "            nsp += 1\n",
        "            nst -= 2\n",
        "        print()"
      ],
      "metadata": {
        "id": "cAnvCxbI0oXH"
      },
      "execution_count": 22,
      "outputs": []
    },
    {
      "cell_type": "code",
      "source": [
        "pattern12_diamond(9)"
      ],
      "metadata": {
        "colab": {
          "base_uri": "https://localhost:8080/"
        },
        "id": "1J8Eh6XL1HJN",
        "outputId": "5b72d01e-5c33-452e-be6a-4bb427cf438a"
      },
      "execution_count": 23,
      "outputs": [
        {
          "output_type": "stream",
          "name": "stdout",
          "text": [
            "        * \n",
            "      * * * \n",
            "    * * * * * \n",
            "  * * * * * * * \n",
            "* * * * * * * * * \n",
            "  * * * * * * * \n",
            "    * * * * * \n",
            "      * * * \n",
            "        * \n"
          ]
        }
      ]
    },
    {
      "cell_type": "code",
      "source": [],
      "metadata": {
        "id": "R91JYcyV1KcX"
      },
      "execution_count": null,
      "outputs": []
    }
  ]
}