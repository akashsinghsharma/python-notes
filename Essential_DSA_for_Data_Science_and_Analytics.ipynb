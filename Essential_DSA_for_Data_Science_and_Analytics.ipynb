{
  "nbformat": 4,
  "nbformat_minor": 0,
  "metadata": {
    "colab": {
      "provenance": [],
      "authorship_tag": "ABX9TyP7vvKm3XiV5dlYbYaYFgQ/",
      "include_colab_link": true
    },
    "kernelspec": {
      "name": "python3",
      "display_name": "Python 3"
    },
    "language_info": {
      "name": "python"
    }
  },
  "cells": [
    {
      "cell_type": "markdown",
      "metadata": {
        "id": "view-in-github",
        "colab_type": "text"
      },
      "source": [
        "<a href=\"https://colab.research.google.com/github/akashsinghsharma/python-notes/blob/main/Essential_DSA_for_Data_Science_and_Analytics.ipynb\" target=\"_parent\"><img src=\"https://colab.research.google.com/assets/colab-badge.svg\" alt=\"Open In Colab\"/></a>"
      ]
    },
    {
      "cell_type": "markdown",
      "source": [
        "# Basics of Programming - one\n",
        "***"
      ],
      "metadata": {
        "id": "UoCuSpmL6sOY"
      }
    },
    {
      "cell_type": "markdown",
      "source": [
        "This part will go through some of basics of programming and cover some very basic questions."
      ],
      "metadata": {
        "id": "zFVNqOBj63on"
      }
    },
    {
      "cell_type": "markdown",
      "source": [
        "**Some good practices during interview.**\n",
        "***\n",
        "1. In interviews, something called a pattern printing is asked quite a lot of times. We can do it with hardcore programming, but better to do it with flexibility to change the size shape of pattern in required inputs.\n",
        "\n",
        "2. Microservices: A work is broken down in multiple work, when subworks are done than work is done. This is called microservices. To achieve something, its a good idea to break it down into many function."
      ],
      "metadata": {
        "id": "MdaFWZ7p7hNV"
      }
    },
    {
      "cell_type": "markdown",
      "source": [
        "Let's go through some basic questions."
      ],
      "metadata": {
        "id": "KynIzdkEBXsu"
      }
    },
    {
      "cell_type": "code",
      "execution_count": 1,
      "metadata": {
        "id": "KAD43ndluftD"
      },
      "outputs": [],
      "source": [
        "# q1. https://leetcode.com/problems/fibonacci-number/description/\n",
        "\n",
        "def fibo(n):\n",
        "\n",
        "  n0 = 0\n",
        "  n1 = 1\n",
        "\n",
        "  fibo_list = [n0, n1]\n",
        "\n",
        "  for _ in range(n-1):\n",
        "    n2 = n0 + n1\n",
        "    n0 = n1\n",
        "    n1 = n2\n",
        "    fibo_list.append(n2)\n",
        "\n",
        "  return fibo_list[-1]"
      ]
    },
    {
      "cell_type": "code",
      "source": [
        "fibo(10)"
      ],
      "metadata": {
        "colab": {
          "base_uri": "https://localhost:8080/"
        },
        "id": "bHgPymQm_EKR",
        "outputId": "7ff860f1-d644-45cd-c5f9-38269cae664e"
      },
      "execution_count": 4,
      "outputs": [
        {
          "output_type": "execute_result",
          "data": {
            "text/plain": [
              "55"
            ]
          },
          "metadata": {},
          "execution_count": 4
        }
      ]
    },
    {
      "cell_type": "code",
      "source": [],
      "metadata": {
        "id": "8l40QHflCGd4"
      },
      "execution_count": null,
      "outputs": []
    },
    {
      "cell_type": "markdown",
      "source": [
        "***\n",
        "# Pattern Problem in Python\n",
        "***"
      ],
      "metadata": {
        "id": "4T-d4WwrK24B"
      }
    },
    {
      "cell_type": "markdown",
      "source": [
        "There is a generic way to solve almost all python pattern problem (or other language, here I will focus on Python)\n",
        "\n",
        "1. focus on the first line\n",
        "2. count no of stars and no of spaces\n",
        "3. make it generic equation using table\n",
        "4. right relation of rth line and (r+1)th line"
      ],
      "metadata": {
        "id": "G3mWOrbMK8tZ"
      }
    },
    {
      "cell_type": "markdown",
      "source": [
        "Q1. Print following pattern for n = 5. The shape will change as n will change.:\n",
        "\n",
        "```\n",
        "     *\n",
        "    **\n",
        "   ***\n",
        "  ****\n",
        "******\n",
        "```\n",
        "\n"
      ],
      "metadata": {
        "id": "QC_jWwD1LSzE"
      }
    },
    {
      "cell_type": "code",
      "source": [
        "def pattern_01(N):\n",
        "    nst = 1 #nst is number of star, focus on first line. See how many there are in first line\n",
        "    nsp = N - 1 #nsp is number of space, again see first line.\n",
        "\n",
        "    # Observe and make a table for if n is 5, 6, etc. Note the relation and how will nst change in different n. nst will remain 1 always, however nsp will change.\n",
        "    # nsp will be n - 1.\n",
        "\n",
        "    for r in range(1, N + 1): #we are running loop to print n lines, so 1 to n+1.\n",
        "        # print spaces first (according to this problem, we are looping first for space.\n",
        "        for csp in range(1, nsp + 1):    #csp is count of space\n",
        "            print(\"  \", end=\"\")   #Note I am putting two spaces here, pttern will look at same just a bit clear.\n",
        "                                  #Note that by default print changes line and have end = '\\n'. We are changing it.\n",
        "\n",
        "        # after space, we will print stars\n",
        "        for cst in range(1, nst + 1):    #cst is count of star\n",
        "            print(\"* \", end=\"\")    #Here there is one space after *.\n",
        "\n",
        "        nst += 1\n",
        "        nsp -= 1\n",
        "        print()    #This will just change the line after every one line"
      ],
      "metadata": {
        "id": "Zq3LMJPtLd_8"
      },
      "execution_count": 5,
      "outputs": []
    },
    {
      "cell_type": "code",
      "source": [
        "pattern_01(10)"
      ],
      "metadata": {
        "colab": {
          "base_uri": "https://localhost:8080/"
        },
        "id": "tmr61IElPJ8Q",
        "outputId": "45072186-a1c6-4940-f01b-6e78c99fb334"
      },
      "execution_count": 7,
      "outputs": [
        {
          "output_type": "stream",
          "name": "stdout",
          "text": [
            "                  * \n",
            "                * * \n",
            "              * * * \n",
            "            * * * * \n",
            "          * * * * * \n",
            "        * * * * * * \n",
            "      * * * * * * * \n",
            "    * * * * * * * * \n",
            "  * * * * * * * * * \n",
            "* * * * * * * * * * \n"
          ]
        }
      ]
    },
    {
      "cell_type": "code",
      "source": [],
      "metadata": {
        "id": "jcZD9f7yPNnI"
      },
      "execution_count": null,
      "outputs": []
    }
  ]
}