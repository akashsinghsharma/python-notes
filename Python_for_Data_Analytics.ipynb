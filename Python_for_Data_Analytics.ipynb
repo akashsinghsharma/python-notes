{
  "nbformat": 4,
  "nbformat_minor": 0,
  "metadata": {
    "colab": {
      "provenance": [],
      "authorship_tag": "ABX9TyPFw31iZGiRYGtQjM63sr6b",
      "include_colab_link": true
    },
    "kernelspec": {
      "name": "python3",
      "display_name": "Python 3"
    },
    "language_info": {
      "name": "python"
    }
  },
  "cells": [
    {
      "cell_type": "markdown",
      "metadata": {
        "id": "view-in-github",
        "colab_type": "text"
      },
      "source": [
        "<a href=\"https://colab.research.google.com/github/akashsinghsharma/python-notes/blob/main/Python_for_Data_Analytics.ipynb\" target=\"_parent\"><img src=\"https://colab.research.google.com/assets/colab-badge.svg\" alt=\"Open In Colab\"/></a>"
      ]
    },
    {
      "cell_type": "markdown",
      "source": [
        "**Python for Data Analytics: Unlocking the Power of Data**\n",
        "\n",
        "> Author: [Akash Kumar](https://www.linkedin.com/in/akashsinghsharmaa/) + Chat GPT 3.0"
      ],
      "metadata": {
        "id": "R8EjDkMJb_6M"
      }
    },
    {
      "cell_type": "code",
      "source": [
        "city_list = ['Delhi','Patna','Cuttack','Guwahati']\n",
        "river_list = ['Yamuna','Ganga','Mahanadi','Brahmaputra']\n",
        "\n",
        "x= zip(city_list, river_list)\n",
        "x = list(x)\n",
        "x"
      ],
      "metadata": {
        "colab": {
          "base_uri": "https://localhost:8080/"
        },
        "id": "lk6kadMOgWlG",
        "outputId": "f69779d0-a26c-43d1-80ff-5b3ced4a536c"
      },
      "execution_count": null,
      "outputs": [
        {
          "output_type": "execute_result",
          "data": {
            "text/plain": [
              "[('Delhi', 'Yamuna'),\n",
              " ('Patna', 'Ganga'),\n",
              " ('Cuttack', 'Mahanadi'),\n",
              " ('Guwahati', 'Brahmaputra')]"
            ]
          },
          "metadata": {},
          "execution_count": 30
        }
      ]
    },
    {
      "cell_type": "markdown",
      "source": [
        "This is the lab where anyone intrested in python can start from scratch and learn everything about it. I will start with what basic of all python code and later will see different data types in python and different operations. We will also see some most used python conecpts like loops and conditional statements.\n",
        "\n",
        "---\n",
        "\n"
      ],
      "metadata": {
        "id": "xKvu6Rkd6ci9"
      }
    },
    {
      "cell_type": "markdown",
      "source": [
        "# Basics Of Python"
      ],
      "metadata": {
        "id": "tnoSuOEGsPWn"
      }
    },
    {
      "cell_type": "markdown",
      "source": [
        "In the world of data analytics, Python has emerged as a powerhouse tool. Its simplicity, versatility, and extensive library ecosystem make it an ideal choice for data analysts. Whether you're just starting or looking to advance your skills, this post will guide you through the essentials of Python for data analytics. Let's dive in!\n",
        "Python is a high-level, interpreted programming language known for its readability and simplicity. It serves as a solid foundation for data analytics tasks."
      ],
      "metadata": {
        "id": "irduzwODmFhE"
      }
    },
    {
      "cell_type": "markdown",
      "source": [
        "The most basic code for any coding language is to get it to print something. In python it's really simple."
      ],
      "metadata": {
        "id": "hJEMLsZ7fNPp"
      }
    },
    {
      "cell_type": "code",
      "execution_count": null,
      "metadata": {
        "id": "MVDC9ix_6Twp",
        "colab": {
          "base_uri": "https://localhost:8080/"
        },
        "outputId": "d49e7e5b-d110-400f-9639-6931ba9053ce"
      },
      "outputs": [
        {
          "output_type": "stream",
          "name": "stdout",
          "text": [
            "Hello world, why do you exist?\n"
          ]
        }
      ],
      "source": [
        "print('Hello world, why do you exist?')"
      ]
    },
    {
      "cell_type": "markdown",
      "source": [
        "Just use print command, give it things to print inside () and it will do exactly that. We pass \"\" inside () when we want it to print any \"string\" meaning words, letters, etc.\n",
        "\n",
        "We can also define variables and make python print that."
      ],
      "metadata": {
        "id": "gThMgB9qe0ny"
      }
    },
    {
      "cell_type": "code",
      "source": [
        "a = 56\n",
        "b = 120\n",
        "\n",
        "print(b)"
      ],
      "metadata": {
        "colab": {
          "base_uri": "https://localhost:8080/"
        },
        "id": "vxdJWyBBezP8",
        "outputId": "2eadda21-5ac2-4fe8-cf25-8b8531a588b3"
      },
      "execution_count": null,
      "outputs": [
        {
          "output_type": "stream",
          "name": "stdout",
          "text": [
            "120\n"
          ]
        }
      ]
    },
    {
      "cell_type": "markdown",
      "source": [
        "We can also define variable as string like below."
      ],
      "metadata": {
        "id": "e7ouDTcvfKj2"
      }
    },
    {
      "cell_type": "code",
      "source": [
        "a = 'Akash'\n",
        "print(a)"
      ],
      "metadata": {
        "colab": {
          "base_uri": "https://localhost:8080/"
        },
        "id": "qrZuMVQUfJYQ",
        "outputId": "e39723b9-839f-4175-ad97-615ac9581c91"
      },
      "execution_count": null,
      "outputs": [
        {
          "output_type": "stream",
          "name": "stdout",
          "text": [
            "Akash\n"
          ]
        }
      ]
    },
    {
      "cell_type": "markdown",
      "source": [
        "Note that To assign a value to a variable, we use the assignment operator (=). For example, my_age = 28 assigns the integer value 28 to the variable my_age."
      ],
      "metadata": {
        "id": "scrC5TI1qJfN"
      }
    },
    {
      "cell_type": "markdown",
      "source": [
        "To store any variable, python must know what kind of data it is. Let's learn about data types.\n",
        "\n",
        "---\n",
        "\n"
      ],
      "metadata": {
        "id": "HPjNN1lZnyE8"
      }
    },
    {
      "cell_type": "markdown",
      "source": [
        "# Python Data Types"
      ],
      "metadata": {
        "id": "mIPrGim3n6mO"
      }
    },
    {
      "cell_type": "markdown",
      "source": [
        "In Python, there are several built-in data types that you can use to store and manipulate different kinds of information. Let's explore some of the commonly used data types:\n",
        "\n",
        "1. Integer (int): Integers represent whole numbers without decimal points. They can be positive, negative, or zero.\n",
        "Example:"
      ],
      "metadata": {
        "id": "_b7T4iKwn9Up"
      }
    },
    {
      "cell_type": "code",
      "source": [
        "my_age = 28"
      ],
      "metadata": {
        "id": "KGX3HHUCiM_G"
      },
      "execution_count": null,
      "outputs": []
    },
    {
      "cell_type": "markdown",
      "source": [
        "2. Floating-Point (float): Floating-point numbers represent numbers with decimal points. They can be used for precise numerical calculations.\n",
        "Example:"
      ],
      "metadata": {
        "id": "1DEZtYX8oYNb"
      }
    },
    {
      "cell_type": "code",
      "source": [
        "pi_value = 3.14"
      ],
      "metadata": {
        "id": "xMM_urfUoVJE"
      },
      "execution_count": null,
      "outputs": []
    },
    {
      "cell_type": "markdown",
      "source": [
        "3. String (str): Strings are sequences of characters enclosed in single or double quotes. They are used to represent text or a combination of characters.\n",
        "Example:"
      ],
      "metadata": {
        "id": "wruW5iBAocSB"
      }
    },
    {
      "cell_type": "code",
      "source": [
        "my_name = \"John Doe\""
      ],
      "metadata": {
        "id": "hMIt4jDhobUz"
      },
      "execution_count": null,
      "outputs": []
    },
    {
      "cell_type": "markdown",
      "source": [
        "4. Boolean (bool): Booleans represent either True or False values. They are useful for logical operations and conditional statements.\n",
        "Example:"
      ],
      "metadata": {
        "id": "HLnQQqdYoiFD"
      }
    },
    {
      "cell_type": "code",
      "source": [
        "is_active = True"
      ],
      "metadata": {
        "id": "96hyR-APohdj"
      },
      "execution_count": null,
      "outputs": []
    },
    {
      "cell_type": "markdown",
      "source": [
        "5. List: Lists are ordered collections of items, enclosed in square brackets. They can contain elements of different data types and can be modified.\n",
        "Example:"
      ],
      "metadata": {
        "id": "ylQpp7MtonnG"
      }
    },
    {
      "cell_type": "code",
      "source": [
        "my_list = [1, \"apple\", True, 3.14]"
      ],
      "metadata": {
        "id": "VQ8578qBom7i"
      },
      "execution_count": null,
      "outputs": []
    },
    {
      "cell_type": "markdown",
      "source": [
        "6. Tuple: Tuples are similar to lists but are enclosed in parentheses. Unlike lists, tuples are immutable, meaning their values cannot be changed once assigned. We usually use them to store things that we won't change later in code, like say day, date, etc.\n",
        "Example:"
      ],
      "metadata": {
        "id": "Exm5wl6rowYr"
      }
    },
    {
      "cell_type": "code",
      "source": [
        "my_tuple = (1, \"apple\", True, 3.14)"
      ],
      "metadata": {
        "id": "hwqf7dL6o1bP"
      },
      "execution_count": null,
      "outputs": []
    },
    {
      "cell_type": "markdown",
      "source": [
        "7. Set: Sets are unordered collections of unique elements. They are useful for performing mathematical set operations like union, intersection, and difference.\n",
        "Example:"
      ],
      "metadata": {
        "id": "gitOOAd0pFyV"
      }
    },
    {
      "cell_type": "code",
      "source": [
        "my_set = {1, 2, 3, 4, 5}"
      ],
      "metadata": {
        "id": "qLeByi5mpDhv"
      },
      "execution_count": null,
      "outputs": []
    },
    {
      "cell_type": "markdown",
      "source": [
        "8. Dictionary: Dictionaries are key-value pairs enclosed in curly braces. They allow you to store and retrieve values based on unique keys.\n",
        "Example:"
      ],
      "metadata": {
        "id": "Z0XH-e7ApLHn"
      }
    },
    {
      "cell_type": "code",
      "source": [
        "my_dict = {\"name\": \"John\", \"age\": 28, \"city\": \"New York\"}"
      ],
      "metadata": {
        "id": "DCgYWZCLpKlE"
      },
      "execution_count": null,
      "outputs": []
    },
    {
      "cell_type": "markdown",
      "source": [
        "In Python, a dictionary is a collection of key-value pairs. It allows you to store and retrieve data using unique keys. The keys act as labels or identifiers, while the values represent the associated data.\n",
        "\n",
        "Think of a dictionary as a real-world dictionary where words (keys) have corresponding definitions (values). Just like you can look up a word to find its meaning, in a Python dictionary, you can access a value by providing its corresponding key.\n",
        "\n",
        "Here, \"name\", \"age\", and \"city\" are the keys, and \"John\", 28, and \"New York\" are the values, respectively. You can access the values using their respective keys, like `my_dict[\"name\"]`, which would return \"John\".\n",
        "\n",
        "---\n",
        "\n"
      ],
      "metadata": {
        "id": "MAU-e1j5tqXt"
      }
    },
    {
      "cell_type": "markdown",
      "source": [
        "To create an empty variable, you can assign it to a value of a specific data type. For instance, empty_list = [] assigns an empty list to the variable empty_list. Similarly, you can create an empty string, set, or dictionary using empty_string = \"\", empty_set = set(), and empty_dict = {}, respectively."
      ],
      "metadata": {
        "id": "3qmpdC7aqR-v"
      }
    },
    {
      "cell_type": "code",
      "source": [
        "empty_list = []\n",
        "empty_string = \"\"\n",
        "empty_set = set()\n",
        "empty_dict = {}\n",
        "\n",
        "print(empty_list)\n",
        "print(empty_string)\n",
        "print(empty_set)\n",
        "print(empty_dict)"
      ],
      "metadata": {
        "colab": {
          "base_uri": "https://localhost:8080/"
        },
        "id": "lzgO8JKzpRGj",
        "outputId": "6c8bdbd4-453d-41b3-c43d-a3622637fbee"
      },
      "execution_count": null,
      "outputs": [
        {
          "output_type": "stream",
          "name": "stdout",
          "text": [
            "[]\n",
            "\n",
            "set()\n",
            "{}\n"
          ]
        }
      ]
    },
    {
      "cell_type": "markdown",
      "source": [
        "Note that this essentially prints nothing, just blank list, string set, dict. This are used a lot in data analytics, we will see how later.\n",
        "\n",
        "We can also check the data type of any variable by using set() function. Just write set(var_name) and python will tell the data type."
      ],
      "metadata": {
        "id": "lfhXaq4bqqXZ"
      }
    },
    {
      "cell_type": "code",
      "source": [
        "print(type(empty_list))\n",
        "print(type(empty_string))\n",
        "print(type(empty_set))\n",
        "\n",
        "#Same for other variable defined above."
      ],
      "metadata": {
        "colab": {
          "base_uri": "https://localhost:8080/"
        },
        "id": "TTS4U4fxqoIT",
        "outputId": "5b8d6f18-916a-419c-84d0-4a38afaf9a36"
      },
      "execution_count": null,
      "outputs": [
        {
          "output_type": "stream",
          "name": "stdout",
          "text": [
            "<class 'list'>\n",
            "<class 'str'>\n",
            "<class 'set'>\n"
          ]
        }
      ]
    },
    {
      "cell_type": "markdown",
      "source": [
        "Once we know about different data types, It is also important to know how to change one data type into another. Like it will be used a lot. Python takes input in as a string by default. Wait, you know how to take user input in python? Probably not. Well let me tell you that first."
      ],
      "metadata": {
        "id": "36FRi46CroMl"
      }
    },
    {
      "cell_type": "code",
      "source": [
        "user_in1 = input()"
      ],
      "metadata": {
        "colab": {
          "base_uri": "https://localhost:8080/"
        },
        "id": "cZOLE2dLrfVT",
        "outputId": "9b828830-904d-4286-a67c-51c67af76f97"
      },
      "execution_count": null,
      "outputs": [
        {
          "name": "stdout",
          "output_type": "stream",
          "text": [
            "55\n"
          ]
        }
      ]
    },
    {
      "cell_type": "code",
      "source": [
        "print(type(user_in1))"
      ],
      "metadata": {
        "colab": {
          "base_uri": "https://localhost:8080/"
        },
        "id": "2IUiuPJ9sANT",
        "outputId": "8788f05d-8b20-46cc-f2c1-47114b5135f3"
      },
      "execution_count": null,
      "outputs": [
        {
          "output_type": "stream",
          "name": "stdout",
          "text": [
            "<class 'str'>\n"
          ]
        }
      ]
    },
    {
      "cell_type": "markdown",
      "source": [
        "Yeah, so that's how you take user input. Note that pass any string inside input() and it will pop that up when it will ask for input. For eg: `input('Please put in some input, I will die without it o great warrior')` and it will pop that phrase up. Anyways.\n",
        "So note that when I used type() function on it, it said string, even when it's int. Python is usuallty good when we assign values to variable, but while taking user input it by default takes in as string. So let's see how to convert string to int."
      ],
      "metadata": {
        "id": "IomBfW6TsE0f"
      }
    },
    {
      "cell_type": "code",
      "source": [
        "user_in1 = int(user_in1)\n",
        "type(user_in1)"
      ],
      "metadata": {
        "colab": {
          "base_uri": "https://localhost:8080/"
        },
        "id": "uCtE7BfoswdH",
        "outputId": "7d56d9ff-7e42-4a78-a2bb-591a5bb716d8"
      },
      "execution_count": null,
      "outputs": [
        {
          "output_type": "execute_result",
          "data": {
            "text/plain": [
              "int"
            ]
          },
          "metadata": {},
          "execution_count": 12
        }
      ]
    },
    {
      "cell_type": "markdown",
      "source": [
        "We can also convert float to int."
      ],
      "metadata": {
        "id": "f1q11Nz3s2Jt"
      }
    },
    {
      "cell_type": "code",
      "source": [
        "num_float = 3.14\n",
        "num_int = int(num_float)"
      ],
      "metadata": {
        "id": "lWFldeeFsDIK"
      },
      "execution_count": null,
      "outputs": []
    },
    {
      "cell_type": "markdown",
      "source": [
        "To convert an integer to a floating-point number, you can use the float() function. It takes the integer value as an argument and returns a floating-point representation.\n",
        "\n",
        "Example:"
      ],
      "metadata": {
        "id": "ihAuCkXltDPd"
      }
    },
    {
      "cell_type": "code",
      "source": [
        "num_int = 10\n",
        "num_float = float(num_int)"
      ],
      "metadata": {
        "id": "sc5t3um8s4Ti"
      },
      "execution_count": null,
      "outputs": []
    },
    {
      "cell_type": "markdown",
      "source": [
        "To convert a list to a set, you can use the set() function. It takes the list as an argument and returns a set containing its unique elements. This eliminates any duplicate values and creates an unordered collection of unique elements.\n",
        "\n",
        "Example:"
      ],
      "metadata": {
        "id": "_iCelzvetGpy"
      }
    },
    {
      "cell_type": "code",
      "source": [
        "my_list = [1, 2, 3, 4, 4, 5]\n",
        "my_set = set(my_list)"
      ],
      "metadata": {
        "id": "iCYakUILtFoT"
      },
      "execution_count": null,
      "outputs": []
    },
    {
      "cell_type": "markdown",
      "source": [
        "To convert a dictionary to a list, you can use the list() function. It takes the dictionary as an argument and returns a list containing its keys. This allows you to extract the keys from the dictionary and use them as elements in a list.\n",
        "\n",
        "Example:"
      ],
      "metadata": {
        "id": "FroeAVXItVl1"
      }
    },
    {
      "cell_type": "code",
      "source": [
        "my_dict = {\"name\": \"John\", \"age\": 28, \"city\": \"New York\"}\n",
        "my_list = list(my_dict)\n",
        "print(my_list)"
      ],
      "metadata": {
        "colab": {
          "base_uri": "https://localhost:8080/"
        },
        "id": "Lb6EycvjtTlV",
        "outputId": "f5bfecf1-ce9d-41d9-fed9-5ee95da540b2"
      },
      "execution_count": null,
      "outputs": [
        {
          "output_type": "stream",
          "name": "stdout",
          "text": [
            "['name', 'age', 'city']\n"
          ]
        }
      ]
    },
    {
      "cell_type": "markdown",
      "source": [
        "# Doing more with data types"
      ],
      "metadata": {
        "id": "rxHrSLQ4JOjZ"
      }
    },
    {
      "cell_type": "markdown",
      "source": [],
      "metadata": {
        "id": "LjG_qAM-JVNr"
      }
    },
    {
      "cell_type": "markdown",
      "source": [],
      "metadata": {
        "id": "mdawqKlkJVYH"
      }
    },
    {
      "cell_type": "markdown",
      "source": [],
      "metadata": {
        "id": "SBslHyYHJVbi"
      }
    },
    {
      "cell_type": "markdown",
      "source": [],
      "metadata": {
        "id": "84zWVNqNJVe4"
      }
    },
    {
      "cell_type": "markdown",
      "source": [
        "# Conditional Statement"
      ],
      "metadata": {
        "id": "qrWfPBGVugrH"
      }
    },
    {
      "cell_type": "markdown",
      "source": [
        "In Python, conditional statements are used to control the flow of a program based on certain conditions. They allow you to perform different actions or execute different blocks of code depending on whether a condition is true or false.\n",
        "\n",
        "Think of conditional statements like decision-making tools. They help your program make choices and take different paths based on specific criteria. This is crucial in data analytics when you want to perform different operations or analyze data based on specific conditions.\n",
        "\n",
        "Let's explore the basic structure of conditional statements in Python, along with examples:\n",
        "\n",
        "If Statement:\n",
        "The if statement is the simplest form of a conditional statement. It executes a block of code only if the specified condition is true."
      ],
      "metadata": {
        "id": "tAngRQrSuw4m"
      }
    },
    {
      "cell_type": "code",
      "source": [
        "age = 25\n",
        "\n",
        "if age >= 18:\n",
        "    print(\"You are an adult.\")"
      ],
      "metadata": {
        "colab": {
          "base_uri": "https://localhost:8080/"
        },
        "id": "IWTwKKa-wHc9",
        "outputId": "e3b2270c-4bad-413a-8b24-183e9855ffd4"
      },
      "execution_count": null,
      "outputs": [
        {
          "output_type": "stream",
          "name": "stdout",
          "text": [
            "You are an adult.\n"
          ]
        }
      ]
    },
    {
      "cell_type": "markdown",
      "source": [
        "*(vvi note: Notice something called indentation in python. After we use ':' after if statement, in next line it goers down with a tab. It's important and never remove it. Python uses it to understand it what to do after what))*"
      ],
      "metadata": {
        "id": "Qlon6OuuuxCH"
      }
    },
    {
      "cell_type": "markdown",
      "source": [
        "In this example, if the age is equal to or greater than 18, the code inside the if block will be executed, and it will print \"You are an adult.\"\n",
        "\n",
        "If-Else Statement:\n",
        "The if-else statement allows you to execute one block of code when the condition is true and another block of code when the condition is false."
      ],
      "metadata": {
        "id": "G4QcVLRRwmM_"
      }
    },
    {
      "cell_type": "code",
      "source": [
        "num = 10\n",
        "\n",
        "if num > 0:\n",
        "    print(\"The number is positive.\")\n",
        "else:\n",
        "    print(\"The number is zero or negative.\")"
      ],
      "metadata": {
        "colab": {
          "base_uri": "https://localhost:8080/"
        },
        "id": "oLBWCOlvwrW_",
        "outputId": "1bdc88fe-fb89-47ab-b454-98bb2b988704"
      },
      "execution_count": null,
      "outputs": [
        {
          "output_type": "stream",
          "name": "stdout",
          "text": [
            "The number is positive.\n"
          ]
        }
      ]
    },
    {
      "cell_type": "markdown",
      "source": [
        "In this example, if the number is greater than zero, it will print \"The number is positive.\" Otherwise, it will print \"The number is zero or negative.\"\n",
        "\n",
        "Conditional statements become more complex when you introduce elif (short for \"else if\") statements. They allow you to check additional conditions in a cascading manner."
      ],
      "metadata": {
        "id": "YcMTUrDFwzyN"
      }
    },
    {
      "cell_type": "code",
      "source": [
        "score = 85\n",
        "\n",
        "if score >= 90:\n",
        "    print(\"Excellent!\")\n",
        "elif score >= 80:\n",
        "    print(\"Good job!\")\n",
        "elif score >= 70:\n",
        "    print(\"Keep it up!\")\n",
        "else:\n",
        "    print(\"You can do better!\")"
      ],
      "metadata": {
        "colab": {
          "base_uri": "https://localhost:8080/"
        },
        "id": "Zp74zyLtw0ab",
        "outputId": "70b53c8e-0f05-4ab6-a8dc-f9ac087f4c69"
      },
      "execution_count": null,
      "outputs": [
        {
          "output_type": "stream",
          "name": "stdout",
          "text": [
            "Good job!\n"
          ]
        }
      ]
    },
    {
      "cell_type": "markdown",
      "source": [
        "# Loops and Iteration"
      ],
      "metadata": {
        "id": "n6Z5pWNmutGP"
      }
    },
    {
      "cell_type": "markdown",
      "source": [
        "In Python, loops are used for repetitive execution of a block of code. They allow you to iterate over a sequence or repeat a set of instructions until a certain condition is met. This is particularly useful in data analytics when you need to process large amounts of data or perform repetitive tasks efficiently.\n",
        "\n",
        "Let's explore the two main types of loops in Python: for loops and while loops.\n",
        "\n",
        "For Loop:\n",
        "A for loop iterates over a sequence (such as a list, tuple, or string) or any iterable object. It executes a block of code for each element in the sequence."
      ],
      "metadata": {
        "id": "tR_AIIK5uxii"
      }
    },
    {
      "cell_type": "code",
      "source": [
        "fruits = [\"apple\", \"banana\", \"orange\"]\n",
        "\n",
        "for fruit in fruits:\n",
        "    print(fruit)"
      ],
      "metadata": {
        "colab": {
          "base_uri": "https://localhost:8080/"
        },
        "id": "sD6RUi7-yZaH",
        "outputId": "b0fc1fb6-da8d-4565-f22c-a0d34d06bcb8"
      },
      "execution_count": null,
      "outputs": [
        {
          "output_type": "stream",
          "name": "stdout",
          "text": [
            "apple\n",
            "banana\n",
            "orange\n"
          ]
        }
      ]
    },
    {
      "cell_type": "markdown",
      "source": [
        "In this example, the for loop iterates over the \"fruits\" list and prints each fruit on a separate line.\n",
        "Note that you can use any other word instead of 'fruit' and it will still work."
      ],
      "metadata": {
        "id": "NtTkCQpluxmr"
      }
    },
    {
      "cell_type": "code",
      "source": [
        "fruits = [\"apple\", \"banana\", \"orange\"]\n",
        "\n",
        "for i in fruits:\n",
        "    print(i)"
      ],
      "metadata": {
        "colab": {
          "base_uri": "https://localhost:8080/"
        },
        "id": "JgN2z6mHygUN",
        "outputId": "b1956887-2196-44cc-9c42-286dbeb0fb2f"
      },
      "execution_count": null,
      "outputs": [
        {
          "output_type": "stream",
          "name": "stdout",
          "text": [
            "apple\n",
            "banana\n",
            "orange\n"
          ]
        }
      ]
    },
    {
      "cell_type": "markdown",
      "source": [
        "But remember that it is always advisable to use variable name that is easier to read and understand."
      ],
      "metadata": {
        "id": "OXfICn2cyu5g"
      }
    },
    {
      "cell_type": "code",
      "source": [
        "for i in range(5):\n",
        "    print(i)"
      ],
      "metadata": {
        "colab": {
          "base_uri": "https://localhost:8080/"
        },
        "id": "U8RQJ9Nmyr7M",
        "outputId": "a11b2d7c-5b91-4731-b77d-35faaa6d7572"
      },
      "execution_count": null,
      "outputs": [
        {
          "output_type": "stream",
          "name": "stdout",
          "text": [
            "0\n",
            "1\n",
            "2\n",
            "3\n",
            "4\n"
          ]
        }
      ]
    },
    {
      "cell_type": "markdown",
      "source": [
        "Here, the for loop uses the range() function to generate a sequence of numbers from 0 to 4. It then prints each number in the sequence.\n",
        "\n",
        "---\n",
        "\n",
        "Let's read a little about range() function and then we will come back to this.\n",
        "In Python, the range() function is used to generate a sequence of numbers. It provides a convenient way to iterate over a specific range of values or create a sequence of numbers that can be used in various programming contexts.\n",
        "\n",
        "The range() function takes up to three arguments: start, stop, and step. Here's a brief explanation of each argument:\n",
        "\n",
        "start (optional): Specifies the starting value of the sequence (inclusive). If omitted, it defaults to 0.\n",
        "\n",
        "stop: Specifies the ending value of the sequence (exclusive). It does not include this value in the generated sequence.\n",
        "\n",
        "step (optional): Specifies the difference between each consecutive number in the sequence. If omitted, it defaults to 1.\n",
        "\n",
        "The range() function returns an iterable object that can be used in a for loop, converted to a list, or utilized in other iterable-related operations.\n",
        "\n",
        "Example 1:"
      ],
      "metadata": {
        "id": "IemCf3SUy6vM"
      }
    },
    {
      "cell_type": "code",
      "source": [
        "for num in range(5):\n",
        "    print(num)"
      ],
      "metadata": {
        "colab": {
          "base_uri": "https://localhost:8080/"
        },
        "id": "C2T08tJjy2IL",
        "outputId": "3e3c03fb-0d20-4c59-eb32-3cfff8f769e0"
      },
      "execution_count": null,
      "outputs": [
        {
          "output_type": "stream",
          "name": "stdout",
          "text": [
            "0\n",
            "1\n",
            "2\n",
            "3\n",
            "4\n"
          ]
        }
      ]
    },
    {
      "cell_type": "code",
      "source": [
        "for num in range(1, 10, 2):\n",
        "    print(num)"
      ],
      "metadata": {
        "colab": {
          "base_uri": "https://localhost:8080/"
        },
        "id": "MGD4LN7lzrnj",
        "outputId": "0d378b45-f29f-46fc-fb78-66665e19ce1c"
      },
      "execution_count": null,
      "outputs": [
        {
          "output_type": "stream",
          "name": "stdout",
          "text": [
            "1\n",
            "3\n",
            "5\n",
            "7\n",
            "9\n"
          ]
        }
      ]
    },
    {
      "cell_type": "markdown",
      "source": [
        "Here, the range(1, 10, 2) generates a sequence of odd numbers from 1 to 9. The for loop iterates over this sequence, and each odd number is printed.\n",
        "\n",
        "The range() function is useful in various scenarios, such as when you need to iterate a specific number of times, generate indices for list operations, or create a custom numerical sequence.\n",
        "\n",
        "---\n",
        "Let's come back to our old topic of loops and iterations.\n"
      ],
      "metadata": {
        "id": "ywql-PURz0hN"
      }
    },
    {
      "cell_type": "markdown",
      "source": [
        "While Loop:\n",
        "A while loop executes a block of code as long as a certain condition is true. It repeats the code until the condition becomes false."
      ],
      "metadata": {
        "id": "wg6eknZm0AZp"
      }
    },
    {
      "cell_type": "code",
      "source": [
        "count = 0\n",
        "\n",
        "while count < 5:\n",
        "    print(count)\n",
        "    count += 1"
      ],
      "metadata": {
        "colab": {
          "base_uri": "https://localhost:8080/"
        },
        "id": "i9CVPQjuzv6a",
        "outputId": "7f3607aa-a553-4f91-827f-876fc6942a32"
      },
      "execution_count": null,
      "outputs": [
        {
          "output_type": "stream",
          "name": "stdout",
          "text": [
            "0\n",
            "1\n",
            "2\n",
            "3\n",
            "4\n"
          ]
        }
      ]
    },
    {
      "cell_type": "markdown",
      "source": [
        "In this example, the while loop prints the value of \"count\" and increments it by 1 in each iteration, until the condition count < 5 becomes false."
      ],
      "metadata": {
        "id": "-tY5-REV0SQ5"
      }
    },
    {
      "cell_type": "code",
      "source": [
        "num = 10\n",
        "\n",
        "while num > 0:\n",
        "    print(num)\n",
        "    num -= 2"
      ],
      "metadata": {
        "colab": {
          "base_uri": "https://localhost:8080/"
        },
        "id": "bxp4NBZC0Nw0",
        "outputId": "badb0aaf-4e5b-4337-b6dd-25bb925f6f38"
      },
      "execution_count": null,
      "outputs": [
        {
          "output_type": "stream",
          "name": "stdout",
          "text": [
            "10\n",
            "8\n",
            "6\n",
            "4\n",
            "2\n"
          ]
        }
      ]
    },
    {
      "cell_type": "markdown",
      "source": [
        "Here, the while loop prints the value of \"num\" and subtracts 2 from it in each iteration, until \"num\" becomes less than or equal to 0.\n",
        "\n",
        "((Note that here `num -= 2` simply means `num = num - 2`, which updates the num variable in each iteration))."
      ],
      "metadata": {
        "id": "WPY_j1FS0Uaa"
      }
    },
    {
      "cell_type": "code",
      "source": [
        "students = [\n",
        "    {\"name\": \"John\", \"age\": 25},\n",
        "    {\"name\": \"Alice\", \"age\": 22},\n",
        "    {\"name\": \"Mark\", \"age\": 28}\n",
        "]\n",
        "\n",
        "for student in students:\n",
        "    if student[\"age\"] >= 25:\n",
        "        print(student[\"name\"])"
      ],
      "metadata": {
        "colab": {
          "base_uri": "https://localhost:8080/"
        },
        "id": "UZu9XGnR1K0o",
        "outputId": "6625bca3-ab37-4a2f-a9aa-6c1ba9a7704e"
      },
      "execution_count": null,
      "outputs": [
        {
          "output_type": "stream",
          "name": "stdout",
          "text": [
            "John\n",
            "Mark\n"
          ]
        }
      ]
    },
    {
      "cell_type": "markdown",
      "source": [
        "The for loop iterates over the \"students\" list of dictionaries. It checks the age of each student and prints the name of students who are 25 years or older."
      ],
      "metadata": {
        "id": "CDQB2bIH1P_H"
      }
    },
    {
      "cell_type": "code",
      "source": [
        "num = 10\n",
        "\n",
        "while num > 0:\n",
        "    print(num)\n",
        "    if num == 5:\n",
        "        break\n",
        "    num -= 1"
      ],
      "metadata": {
        "colab": {
          "base_uri": "https://localhost:8080/"
        },
        "id": "4w-84a2f1Lkr",
        "outputId": "9891591e-2608-48ab-c8fd-6f6558f5cd98"
      },
      "execution_count": null,
      "outputs": [
        {
          "output_type": "stream",
          "name": "stdout",
          "text": [
            "10\n",
            "9\n",
            "8\n",
            "7\n",
            "6\n",
            "5\n"
          ]
        }
      ]
    },
    {
      "cell_type": "markdown",
      "source": [
        "The while loop prints the value of \"num\" and stops when \"num\" becomes 5, using the break statement to exit the loop prematurely.\n",
        "\n",
        "Loops and iteration are powerful concepts in Python that allow you to automate repetitive tasks, iterate over data, and process information efficiently."
      ],
      "metadata": {
        "id": "SkMGZhMg1YnH"
      }
    },
    {
      "cell_type": "markdown",
      "source": [
        "# Functions and Methods."
      ],
      "metadata": {
        "id": "zRR9zEdd24D_"
      }
    },
    {
      "cell_type": "markdown",
      "source": [],
      "metadata": {
        "id": "8Djp_reUuBGX"
      }
    },
    {
      "cell_type": "code",
      "source": [],
      "metadata": {
        "id": "ffD-WUwR1YGi"
      },
      "execution_count": null,
      "outputs": []
    },
    {
      "cell_type": "markdown",
      "source": [
        "# Production Grade Programming"
      ],
      "metadata": {
        "id": "CIJHnMozI4Jb"
      }
    },
    {
      "cell_type": "markdown",
      "source": [],
      "metadata": {
        "id": "9YDsuU7Nt_YB"
      }
    },
    {
      "cell_type": "code",
      "source": [],
      "metadata": {
        "id": "79OmCvvGt_qg"
      },
      "execution_count": null,
      "outputs": []
    },
    {
      "cell_type": "markdown",
      "source": [
        "# PANDAS"
      ],
      "metadata": {
        "id": "PCNMOo9Tu7Dg"
      }
    },
    {
      "cell_type": "markdown",
      "source": [
        "Python pandas is like a powerful toolbox that helps us work with data in an organized and efficient way. It provides us with useful functions and tools to handle, manipulate, and analyze data effectively.\n",
        "\n",
        "Here are a few important functions in pandas that are commonly used in data analytics projects:"
      ],
      "metadata": {
        "id": "UyDb-p7xJHaI"
      }
    },
    {
      "cell_type": "code",
      "source": [
        "import pandas as pd #To import pandas library in workstation."
      ],
      "metadata": {
        "id": "3tRlinWxvyyC"
      },
      "execution_count": null,
      "outputs": []
    },
    {
      "cell_type": "markdown",
      "source": [
        "Importing Data:\n",
        "Pandas allows us to import data from various file formats like CSV, Excel, or SQL databases. We can use functions like `read_csv()`,` read_excel()`, or `read_sql()` to load data into a pandas DataFrame, which is a tabular data structure used in pandas."
      ],
      "metadata": {
        "id": "p4mkvQ_kv3av"
      }
    },
    {
      "cell_type": "code",
      "source": [
        "# Read a CSV file into a DataFrame\n",
        "# df = pd.read_csv('data.csv')   #Note: Remove comments# and fill up the location of correct file you want to input to use this code."
      ],
      "metadata": {
        "id": "42UdqX8XwCtP"
      },
      "execution_count": null,
      "outputs": []
    },
    {
      "cell_type": "markdown",
      "source": [
        "Display the first few rows of the DataFrame\n",
        "`print(df.head())`\n",
        "\n",
        "Get information about the DataFrame\n",
        "`print(df.info())`\n",
        "\n",
        "Calculate summary statistics of the DataFrame\n",
        "`print(df.describe())`"
      ],
      "metadata": {
        "id": "_JnM-IGmwS_q"
      }
    },
    {
      "cell_type": "markdown",
      "source": [
        "Select specific columns\n",
        "`selected_cols = df[['column1', 'column2']]`\n",
        "\n",
        "Filter rows based on conditions\n",
        "`filtered_data = df[df['column1'] > 10]`\n",
        "\n",
        "In pandas, you can filter rows based on multiple conditions using logical operators like & (and) and | (or).\n",
        "`filtered_data = df[(df['column1'] > a) & (df['column2'] > b)]`\n",
        "\n",
        "Be consious on where we use & or |. Also note that many many conditions can be used in same line of code. It follows a hierirachical structure.\n",
        "For eg: `[(condition 1) | ((condition 2) & (condition3))]`\n",
        "\n",
        "Sort the DataFrame by a column\n",
        "`sorted_data = df.sort_values('column1')`\n",
        "\n",
        "Group data and perform calculations\n",
        "`grouped_data = df.groupby('category')['column1'].mean()` #This groupby() will group data based on cetrogory and ['column1'].mean() will give back mean of column1 after the data frame is grouped by category. Note that we can use any of these functions alone.\n",
        "\n",
        "Create a new column based on existing columns\n",
        "`df['new_column'] = df['column1'] + df['column2']`"
      ],
      "metadata": {
        "id": "V4iCOMKAwZFX"
      }
    },
    {
      "cell_type": "markdown",
      "source": [
        "**iloc() and loc() function**"
      ],
      "metadata": {
        "id": "XCn6taOtz_NP"
      }
    },
    {
      "cell_type": "markdown",
      "source": [
        "1. `.iloc`:\n",
        "\n",
        "The .iloc indexer is used for integer-based indexing. It allows you to access DataFrame elements by specifying their integer-based positions (indices) regardless of the index labels.\n",
        "\n",
        "Syntax: `dataframe.iloc[row_index, column_index]`"
      ],
      "metadata": {
        "id": "pY8rxsQgrRVK"
      }
    },
    {
      "cell_type": "code",
      "source": [
        "import pandas as pd\n",
        "\n",
        "# Create a sample DataFrame with the help of dictonary in python.\n",
        "data = {'Name': ['John', 'Alice', 'Bob', 'Jane'],\n",
        "        'Age': [25, 30, 35, 40],\n",
        "        'City': ['New York', 'Paris', 'London', 'Sydney']}\n",
        "df = pd.DataFrame(data)\n",
        "\n",
        "# Access a specific element\n",
        "element = df.iloc[1, 2] # 1 is row index. 2 is column index. Remember that the indexing stars from 0 in python.\n",
        "print(element)  # Output: Paris\n",
        "\n",
        "# Access a specific row\n",
        "row = df.iloc[2] #This will return row index 2, or 3rd row. It doesnt have any column index so it will just return all column.\n",
        "print(row)\n",
        "# Output:\n",
        "# Name    Bob\n",
        "# Age      35\n",
        "# City    London\n",
        "# Name: 2, dtype: object\n",
        "\n",
        "# Access a specific column\n",
        "column = df.iloc[:, 0] #This will return all the columns of 0th index column. i.e. first column.\n",
        "print(column)\n",
        "# Output:\n",
        "# 0    John\n",
        "# 1    Alice\n",
        "# 2      Bob\n",
        "# 3     Jane\n",
        "# Name: Name, dtype: object"
      ],
      "metadata": {
        "colab": {
          "base_uri": "https://localhost:8080/"
        },
        "id": "3F9U4rP0rrJ3",
        "outputId": "239deeb6-2d36-40c0-f40e-9bb1d1446a29"
      },
      "execution_count": 1,
      "outputs": [
        {
          "output_type": "stream",
          "name": "stdout",
          "text": [
            "Paris\n",
            "Name       Bob\n",
            "Age         35\n",
            "City    London\n",
            "Name: 2, dtype: object\n",
            "0     John\n",
            "1    Alice\n",
            "2      Bob\n",
            "3     Jane\n",
            "Name: Name, dtype: object\n"
          ]
        }
      ]
    },
    {
      "cell_type": "markdown",
      "source": [
        "2. `.loc`:\n",
        "The .loc indexer is used for label-based indexing. It allows you to access DataFrame elements using the row and column labels.\n",
        "\n",
        "Syntax: `dataframe.loc[row_label, column_label]`"
      ],
      "metadata": {
        "id": "vm4Xa4Y8s-Gb"
      }
    },
    {
      "cell_type": "code",
      "source": [
        "import pandas as pd\n",
        "\n",
        "# Create a sample DataFrame\n",
        "data = {'Name': ['John', 'Alice', 'Bob', 'Jane'],\n",
        "        'Age': [25, 30, 35, 40],\n",
        "        'City': ['New York', 'Paris', 'London', 'Sydney']}\n",
        "df = pd.DataFrame(data, index=['A', 'B', 'C', 'D'])\n",
        "\n",
        "# Access a specific element\n",
        "element = df.loc['B', 'City'] #This will give back row with B index (2nd) and from city column.\n",
        "print(element)  # Output: Paris\n",
        "\n",
        "# Access a specific row\n",
        "row = df.loc['C'] #This will give all the columns of row C.\n",
        "print(row)\n",
        "# Output:\n",
        "# Name    Bob\n",
        "# Age      35\n",
        "# City    London\n",
        "# Name: C, dtype: object\n",
        "\n",
        "# Access a specific column\n",
        "column = df.loc[:, 'Age'] #All the rows of column Age.\n",
        "print(column)\n",
        "# Output:\n",
        "# A    25\n",
        "# B    30\n",
        "# C    35\n",
        "# D    40\n",
        "# Name: Age, dtype: int64"
      ],
      "metadata": {
        "colab": {
          "base_uri": "https://localhost:8080/"
        },
        "id": "S5ezJrDRrtVM",
        "outputId": "a92ea211-15b2-4bce-a51f-9393e7dd753f"
      },
      "execution_count": 2,
      "outputs": [
        {
          "output_type": "stream",
          "name": "stdout",
          "text": [
            "Paris\n",
            "Name       Bob\n",
            "Age         35\n",
            "City    London\n",
            "Name: C, dtype: object\n",
            "A    25\n",
            "B    30\n",
            "C    35\n",
            "D    40\n",
            "Name: Age, dtype: int64\n"
          ]
        }
      ]
    },
    {
      "cell_type": "markdown",
      "source": [
        "**Lambda function**\n",
        "\n",
        "---\n",
        "\n"
      ],
      "metadata": {
        "id": "DROc6mTkt1-A"
      }
    },
    {
      "cell_type": "markdown",
      "source": [
        "Lambda functions in Pandas are a convenient way to apply custom logic or transformations to DataFrame columns or rows. A lambda function is an anonymous function that can be defined in a single line. It takes inputs, performs operations, and returns outputs."
      ],
      "metadata": {
        "id": "83QvQjYNt7Nd"
      }
    },
    {
      "cell_type": "code",
      "source": [
        "import pandas as pd\n",
        "\n",
        "# Create a sample DataFrame\n",
        "data = {'Name': ['John', 'Alice', 'Bob', 'Jane'],\n",
        "        'Age': [25, 30, 35, 40]}\n",
        "df = pd.DataFrame(data)\n",
        "df"
      ],
      "metadata": {
        "colab": {
          "base_uri": "https://localhost:8080/",
          "height": 174
        },
        "id": "UMORtQPbtiSc",
        "outputId": "2b0fda1a-4813-4733-9423-59c89fb28f26"
      },
      "execution_count": 5,
      "outputs": [
        {
          "output_type": "execute_result",
          "data": {
            "text/plain": [
              "    Name  Age\n",
              "0   John   25\n",
              "1  Alice   30\n",
              "2    Bob   35\n",
              "3   Jane   40"
            ],
            "text/html": [
              "\n",
              "\n",
              "  <div id=\"df-c4c101fb-0c22-48b4-8612-a0e383dfe478\">\n",
              "    <div class=\"colab-df-container\">\n",
              "      <div>\n",
              "<style scoped>\n",
              "    .dataframe tbody tr th:only-of-type {\n",
              "        vertical-align: middle;\n",
              "    }\n",
              "\n",
              "    .dataframe tbody tr th {\n",
              "        vertical-align: top;\n",
              "    }\n",
              "\n",
              "    .dataframe thead th {\n",
              "        text-align: right;\n",
              "    }\n",
              "</style>\n",
              "<table border=\"1\" class=\"dataframe\">\n",
              "  <thead>\n",
              "    <tr style=\"text-align: right;\">\n",
              "      <th></th>\n",
              "      <th>Name</th>\n",
              "      <th>Age</th>\n",
              "    </tr>\n",
              "  </thead>\n",
              "  <tbody>\n",
              "    <tr>\n",
              "      <th>0</th>\n",
              "      <td>John</td>\n",
              "      <td>25</td>\n",
              "    </tr>\n",
              "    <tr>\n",
              "      <th>1</th>\n",
              "      <td>Alice</td>\n",
              "      <td>30</td>\n",
              "    </tr>\n",
              "    <tr>\n",
              "      <th>2</th>\n",
              "      <td>Bob</td>\n",
              "      <td>35</td>\n",
              "    </tr>\n",
              "    <tr>\n",
              "      <th>3</th>\n",
              "      <td>Jane</td>\n",
              "      <td>40</td>\n",
              "    </tr>\n",
              "  </tbody>\n",
              "</table>\n",
              "</div>\n",
              "      <button class=\"colab-df-convert\" onclick=\"convertToInteractive('df-c4c101fb-0c22-48b4-8612-a0e383dfe478')\"\n",
              "              title=\"Convert this dataframe to an interactive table.\"\n",
              "              style=\"display:none;\">\n",
              "\n",
              "  <svg xmlns=\"http://www.w3.org/2000/svg\" height=\"24px\"viewBox=\"0 0 24 24\"\n",
              "       width=\"24px\">\n",
              "    <path d=\"M0 0h24v24H0V0z\" fill=\"none\"/>\n",
              "    <path d=\"M18.56 5.44l.94 2.06.94-2.06 2.06-.94-2.06-.94-.94-2.06-.94 2.06-2.06.94zm-11 1L8.5 8.5l.94-2.06 2.06-.94-2.06-.94L8.5 2.5l-.94 2.06-2.06.94zm10 10l.94 2.06.94-2.06 2.06-.94-2.06-.94-.94-2.06-.94 2.06-2.06.94z\"/><path d=\"M17.41 7.96l-1.37-1.37c-.4-.4-.92-.59-1.43-.59-.52 0-1.04.2-1.43.59L10.3 9.45l-7.72 7.72c-.78.78-.78 2.05 0 2.83L4 21.41c.39.39.9.59 1.41.59.51 0 1.02-.2 1.41-.59l7.78-7.78 2.81-2.81c.8-.78.8-2.07 0-2.86zM5.41 20L4 18.59l7.72-7.72 1.47 1.35L5.41 20z\"/>\n",
              "  </svg>\n",
              "      </button>\n",
              "\n",
              "\n",
              "\n",
              "    <div id=\"df-b2e4d63b-45e4-4de1-9180-cb5403b5fa43\">\n",
              "      <button class=\"colab-df-quickchart\" onclick=\"quickchart('df-b2e4d63b-45e4-4de1-9180-cb5403b5fa43')\"\n",
              "              title=\"Suggest charts.\"\n",
              "              style=\"display:none;\">\n",
              "\n",
              "<svg xmlns=\"http://www.w3.org/2000/svg\" height=\"24px\"viewBox=\"0 0 24 24\"\n",
              "     width=\"24px\">\n",
              "    <g>\n",
              "        <path d=\"M19 3H5c-1.1 0-2 .9-2 2v14c0 1.1.9 2 2 2h14c1.1 0 2-.9 2-2V5c0-1.1-.9-2-2-2zM9 17H7v-7h2v7zm4 0h-2V7h2v10zm4 0h-2v-4h2v4z\"/>\n",
              "    </g>\n",
              "</svg>\n",
              "      </button>\n",
              "    </div>\n",
              "\n",
              "<style>\n",
              "  .colab-df-quickchart {\n",
              "    background-color: #E8F0FE;\n",
              "    border: none;\n",
              "    border-radius: 50%;\n",
              "    cursor: pointer;\n",
              "    display: none;\n",
              "    fill: #1967D2;\n",
              "    height: 32px;\n",
              "    padding: 0 0 0 0;\n",
              "    width: 32px;\n",
              "  }\n",
              "\n",
              "  .colab-df-quickchart:hover {\n",
              "    background-color: #E2EBFA;\n",
              "    box-shadow: 0px 1px 2px rgba(60, 64, 67, 0.3), 0px 1px 3px 1px rgba(60, 64, 67, 0.15);\n",
              "    fill: #174EA6;\n",
              "  }\n",
              "\n",
              "  [theme=dark] .colab-df-quickchart {\n",
              "    background-color: #3B4455;\n",
              "    fill: #D2E3FC;\n",
              "  }\n",
              "\n",
              "  [theme=dark] .colab-df-quickchart:hover {\n",
              "    background-color: #434B5C;\n",
              "    box-shadow: 0px 1px 3px 1px rgba(0, 0, 0, 0.15);\n",
              "    filter: drop-shadow(0px 1px 2px rgba(0, 0, 0, 0.3));\n",
              "    fill: #FFFFFF;\n",
              "  }\n",
              "</style>\n",
              "\n",
              "    <script>\n",
              "      async function quickchart(key) {\n",
              "        const containerElement = document.querySelector('#' + key);\n",
              "        const charts = await google.colab.kernel.invokeFunction(\n",
              "            'suggestCharts', [key], {});\n",
              "      }\n",
              "    </script>\n",
              "\n",
              "      <script>\n",
              "\n",
              "function displayQuickchartButton(domScope) {\n",
              "  let quickchartButtonEl =\n",
              "    domScope.querySelector('#df-b2e4d63b-45e4-4de1-9180-cb5403b5fa43 button.colab-df-quickchart');\n",
              "  quickchartButtonEl.style.display =\n",
              "    google.colab.kernel.accessAllowed ? 'block' : 'none';\n",
              "}\n",
              "\n",
              "        displayQuickchartButton(document);\n",
              "      </script>\n",
              "      <style>\n",
              "    .colab-df-container {\n",
              "      display:flex;\n",
              "      flex-wrap:wrap;\n",
              "      gap: 12px;\n",
              "    }\n",
              "\n",
              "    .colab-df-convert {\n",
              "      background-color: #E8F0FE;\n",
              "      border: none;\n",
              "      border-radius: 50%;\n",
              "      cursor: pointer;\n",
              "      display: none;\n",
              "      fill: #1967D2;\n",
              "      height: 32px;\n",
              "      padding: 0 0 0 0;\n",
              "      width: 32px;\n",
              "    }\n",
              "\n",
              "    .colab-df-convert:hover {\n",
              "      background-color: #E2EBFA;\n",
              "      box-shadow: 0px 1px 2px rgba(60, 64, 67, 0.3), 0px 1px 3px 1px rgba(60, 64, 67, 0.15);\n",
              "      fill: #174EA6;\n",
              "    }\n",
              "\n",
              "    [theme=dark] .colab-df-convert {\n",
              "      background-color: #3B4455;\n",
              "      fill: #D2E3FC;\n",
              "    }\n",
              "\n",
              "    [theme=dark] .colab-df-convert:hover {\n",
              "      background-color: #434B5C;\n",
              "      box-shadow: 0px 1px 3px 1px rgba(0, 0, 0, 0.15);\n",
              "      filter: drop-shadow(0px 1px 2px rgba(0, 0, 0, 0.3));\n",
              "      fill: #FFFFFF;\n",
              "    }\n",
              "  </style>\n",
              "\n",
              "      <script>\n",
              "        const buttonEl =\n",
              "          document.querySelector('#df-c4c101fb-0c22-48b4-8612-a0e383dfe478 button.colab-df-convert');\n",
              "        buttonEl.style.display =\n",
              "          google.colab.kernel.accessAllowed ? 'block' : 'none';\n",
              "\n",
              "        async function convertToInteractive(key) {\n",
              "          const element = document.querySelector('#df-c4c101fb-0c22-48b4-8612-a0e383dfe478');\n",
              "          const dataTable =\n",
              "            await google.colab.kernel.invokeFunction('convertToInteractive',\n",
              "                                                     [key], {});\n",
              "          if (!dataTable) return;\n",
              "\n",
              "          const docLinkHtml = 'Like what you see? Visit the ' +\n",
              "            '<a target=\"_blank\" href=https://colab.research.google.com/notebooks/data_table.ipynb>data table notebook</a>'\n",
              "            + ' to learn more about interactive tables.';\n",
              "          element.innerHTML = '';\n",
              "          dataTable['output_type'] = 'display_data';\n",
              "          await google.colab.output.renderOutput(dataTable, element);\n",
              "          const docLink = document.createElement('div');\n",
              "          docLink.innerHTML = docLinkHtml;\n",
              "          element.appendChild(docLink);\n",
              "        }\n",
              "      </script>\n",
              "    </div>\n",
              "  </div>\n"
            ]
          },
          "metadata": {},
          "execution_count": 5
        }
      ]
    },
    {
      "cell_type": "code",
      "source": [
        "# Apply a lambda function to create a new column\n",
        "df['Age squared'] = df['Age'].apply(lambda x: x**2)\n",
        "\n",
        "# Display the updated DataFrame\n",
        "print(df)"
      ],
      "metadata": {
        "colab": {
          "base_uri": "https://localhost:8080/"
        },
        "id": "LNJfDPh5x4nt",
        "outputId": "87390598-5cfa-4252-e185-ac7d6d5865e9"
      },
      "execution_count": 6,
      "outputs": [
        {
          "output_type": "stream",
          "name": "stdout",
          "text": [
            "    Name  Age  Age squared\n",
            "0   John   25          625\n",
            "1  Alice   30          900\n",
            "2    Bob   35         1225\n",
            "3   Jane   40         1600\n"
          ]
        }
      ]
    },
    {
      "cell_type": "markdown",
      "source": [
        "Note that it's not that lambda function can be used in Python PANDAS only, we can use it just like we defined custom functions."
      ],
      "metadata": {
        "id": "bbhL-ThbyLF5"
      }
    },
    {
      "cell_type": "code",
      "source": [
        "x = lambda a : a * a/2 #Defining a function x using lambda.\n",
        "x(10) #Passing a variable a = 10 in x. Note that a is the variable and everything after ':' is opertaion that will be performed on a."
      ],
      "metadata": {
        "colab": {
          "base_uri": "https://localhost:8080/"
        },
        "id": "GcFHaS1tx8nc",
        "outputId": "998a93ff-538a-441f-a45c-925b5994060f"
      },
      "execution_count": 7,
      "outputs": [
        {
          "output_type": "stream",
          "name": "stdout",
          "text": [
            "50.0\n"
          ]
        }
      ]
    },
    {
      "cell_type": "markdown",
      "source": [
        "Back to the example of data frame, we can write lambda function in a different manner as well."
      ],
      "metadata": {
        "id": "QsGfKuTYznXY"
      }
    },
    {
      "cell_type": "code",
      "source": [
        "#Suppose we want to know what will be the age aftrer 10 years.\n",
        "\n",
        "after_10 = lambda a: a+10\n",
        "\n",
        "df['age after 10 year'] = df['age'].apply(after_10, axis = 1)"
      ],
      "metadata": {
        "colab": {
          "base_uri": "https://localhost:8080/",
          "height": 502
        },
        "id": "Bu9jXRNVyY9l",
        "outputId": "db1555b7-ab6e-4ec7-d77f-138264b67d30"
      },
      "execution_count": 9,
      "outputs": [
        {
          "output_type": "error",
          "ename": "KeyError",
          "evalue": "ignored",
          "traceback": [
            "\u001b[0;31m---------------------------------------------------------------------------\u001b[0m",
            "\u001b[0;31mKeyError\u001b[0m                                  Traceback (most recent call last)",
            "\u001b[0;32m/usr/local/lib/python3.10/dist-packages/pandas/core/indexes/base.py\u001b[0m in \u001b[0;36mget_loc\u001b[0;34m(self, key, method, tolerance)\u001b[0m\n\u001b[1;32m   3801\u001b[0m             \u001b[0;32mtry\u001b[0m\u001b[0;34m:\u001b[0m\u001b[0;34m\u001b[0m\u001b[0;34m\u001b[0m\u001b[0m\n\u001b[0;32m-> 3802\u001b[0;31m                 \u001b[0;32mreturn\u001b[0m \u001b[0mself\u001b[0m\u001b[0;34m.\u001b[0m\u001b[0m_engine\u001b[0m\u001b[0;34m.\u001b[0m\u001b[0mget_loc\u001b[0m\u001b[0;34m(\u001b[0m\u001b[0mcasted_key\u001b[0m\u001b[0;34m)\u001b[0m\u001b[0;34m\u001b[0m\u001b[0;34m\u001b[0m\u001b[0m\n\u001b[0m\u001b[1;32m   3803\u001b[0m             \u001b[0;32mexcept\u001b[0m \u001b[0mKeyError\u001b[0m \u001b[0;32mas\u001b[0m \u001b[0merr\u001b[0m\u001b[0;34m:\u001b[0m\u001b[0;34m\u001b[0m\u001b[0;34m\u001b[0m\u001b[0m\n",
            "\u001b[0;32m/usr/local/lib/python3.10/dist-packages/pandas/_libs/index.pyx\u001b[0m in \u001b[0;36mpandas._libs.index.IndexEngine.get_loc\u001b[0;34m()\u001b[0m\n",
            "\u001b[0;32m/usr/local/lib/python3.10/dist-packages/pandas/_libs/index.pyx\u001b[0m in \u001b[0;36mpandas._libs.index.IndexEngine.get_loc\u001b[0;34m()\u001b[0m\n",
            "\u001b[0;32mpandas/_libs/hashtable_class_helper.pxi\u001b[0m in \u001b[0;36mpandas._libs.hashtable.PyObjectHashTable.get_item\u001b[0;34m()\u001b[0m\n",
            "\u001b[0;32mpandas/_libs/hashtable_class_helper.pxi\u001b[0m in \u001b[0;36mpandas._libs.hashtable.PyObjectHashTable.get_item\u001b[0;34m()\u001b[0m\n",
            "\u001b[0;31mKeyError\u001b[0m: 'age'",
            "\nThe above exception was the direct cause of the following exception:\n",
            "\u001b[0;31mKeyError\u001b[0m                                  Traceback (most recent call last)",
            "\u001b[0;32m<ipython-input-9-3ad46c93cd7b>\u001b[0m in \u001b[0;36m<cell line: 5>\u001b[0;34m()\u001b[0m\n\u001b[1;32m      3\u001b[0m \u001b[0mafter_10\u001b[0m \u001b[0;34m=\u001b[0m \u001b[0;32mlambda\u001b[0m \u001b[0ma\u001b[0m\u001b[0;34m:\u001b[0m \u001b[0ma\u001b[0m\u001b[0;34m+\u001b[0m\u001b[0;36m10\u001b[0m\u001b[0;34m\u001b[0m\u001b[0;34m\u001b[0m\u001b[0m\n\u001b[1;32m      4\u001b[0m \u001b[0;34m\u001b[0m\u001b[0m\n\u001b[0;32m----> 5\u001b[0;31m \u001b[0mdf\u001b[0m\u001b[0;34m[\u001b[0m\u001b[0;34m'age after 10 year'\u001b[0m\u001b[0;34m]\u001b[0m \u001b[0;34m=\u001b[0m \u001b[0mdf\u001b[0m\u001b[0;34m[\u001b[0m\u001b[0;34m'age'\u001b[0m\u001b[0;34m]\u001b[0m\u001b[0;34m.\u001b[0m\u001b[0mapply\u001b[0m\u001b[0;34m(\u001b[0m\u001b[0mafter_10\u001b[0m\u001b[0;34m,\u001b[0m \u001b[0maxis\u001b[0m \u001b[0;34m=\u001b[0m \u001b[0;36m1\u001b[0m\u001b[0;34m)\u001b[0m\u001b[0;34m\u001b[0m\u001b[0;34m\u001b[0m\u001b[0m\n\u001b[0m",
            "\u001b[0;32m/usr/local/lib/python3.10/dist-packages/pandas/core/frame.py\u001b[0m in \u001b[0;36m__getitem__\u001b[0;34m(self, key)\u001b[0m\n\u001b[1;32m   3805\u001b[0m             \u001b[0;32mif\u001b[0m \u001b[0mself\u001b[0m\u001b[0;34m.\u001b[0m\u001b[0mcolumns\u001b[0m\u001b[0;34m.\u001b[0m\u001b[0mnlevels\u001b[0m \u001b[0;34m>\u001b[0m \u001b[0;36m1\u001b[0m\u001b[0;34m:\u001b[0m\u001b[0;34m\u001b[0m\u001b[0;34m\u001b[0m\u001b[0m\n\u001b[1;32m   3806\u001b[0m                 \u001b[0;32mreturn\u001b[0m \u001b[0mself\u001b[0m\u001b[0;34m.\u001b[0m\u001b[0m_getitem_multilevel\u001b[0m\u001b[0;34m(\u001b[0m\u001b[0mkey\u001b[0m\u001b[0;34m)\u001b[0m\u001b[0;34m\u001b[0m\u001b[0;34m\u001b[0m\u001b[0m\n\u001b[0;32m-> 3807\u001b[0;31m             \u001b[0mindexer\u001b[0m \u001b[0;34m=\u001b[0m \u001b[0mself\u001b[0m\u001b[0;34m.\u001b[0m\u001b[0mcolumns\u001b[0m\u001b[0;34m.\u001b[0m\u001b[0mget_loc\u001b[0m\u001b[0;34m(\u001b[0m\u001b[0mkey\u001b[0m\u001b[0;34m)\u001b[0m\u001b[0;34m\u001b[0m\u001b[0;34m\u001b[0m\u001b[0m\n\u001b[0m\u001b[1;32m   3808\u001b[0m             \u001b[0;32mif\u001b[0m \u001b[0mis_integer\u001b[0m\u001b[0;34m(\u001b[0m\u001b[0mindexer\u001b[0m\u001b[0;34m)\u001b[0m\u001b[0;34m:\u001b[0m\u001b[0;34m\u001b[0m\u001b[0;34m\u001b[0m\u001b[0m\n\u001b[1;32m   3809\u001b[0m                 \u001b[0mindexer\u001b[0m \u001b[0;34m=\u001b[0m \u001b[0;34m[\u001b[0m\u001b[0mindexer\u001b[0m\u001b[0;34m]\u001b[0m\u001b[0;34m\u001b[0m\u001b[0;34m\u001b[0m\u001b[0m\n",
            "\u001b[0;32m/usr/local/lib/python3.10/dist-packages/pandas/core/indexes/base.py\u001b[0m in \u001b[0;36mget_loc\u001b[0;34m(self, key, method, tolerance)\u001b[0m\n\u001b[1;32m   3802\u001b[0m                 \u001b[0;32mreturn\u001b[0m \u001b[0mself\u001b[0m\u001b[0;34m.\u001b[0m\u001b[0m_engine\u001b[0m\u001b[0;34m.\u001b[0m\u001b[0mget_loc\u001b[0m\u001b[0;34m(\u001b[0m\u001b[0mcasted_key\u001b[0m\u001b[0;34m)\u001b[0m\u001b[0;34m\u001b[0m\u001b[0;34m\u001b[0m\u001b[0m\n\u001b[1;32m   3803\u001b[0m             \u001b[0;32mexcept\u001b[0m \u001b[0mKeyError\u001b[0m \u001b[0;32mas\u001b[0m \u001b[0merr\u001b[0m\u001b[0;34m:\u001b[0m\u001b[0;34m\u001b[0m\u001b[0;34m\u001b[0m\u001b[0m\n\u001b[0;32m-> 3804\u001b[0;31m                 \u001b[0;32mraise\u001b[0m \u001b[0mKeyError\u001b[0m\u001b[0;34m(\u001b[0m\u001b[0mkey\u001b[0m\u001b[0;34m)\u001b[0m \u001b[0;32mfrom\u001b[0m \u001b[0merr\u001b[0m\u001b[0;34m\u001b[0m\u001b[0;34m\u001b[0m\u001b[0m\n\u001b[0m\u001b[1;32m   3805\u001b[0m             \u001b[0;32mexcept\u001b[0m \u001b[0mTypeError\u001b[0m\u001b[0;34m:\u001b[0m\u001b[0;34m\u001b[0m\u001b[0;34m\u001b[0m\u001b[0m\n\u001b[1;32m   3806\u001b[0m                 \u001b[0;31m# If we have a listlike key, _check_indexing_error will raise\u001b[0m\u001b[0;34m\u001b[0m\u001b[0;34m\u001b[0m\u001b[0m\n",
            "\u001b[0;31mKeyError\u001b[0m: 'age'"
          ]
        }
      ]
    },
    {
      "cell_type": "code",
      "source": [],
      "metadata": {
        "id": "ITKex8lt0EK9"
      },
      "execution_count": null,
      "outputs": []
    }
  ]
}