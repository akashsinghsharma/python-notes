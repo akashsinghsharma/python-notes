{
  "nbformat": 4,
  "nbformat_minor": 0,
  "metadata": {
    "colab": {
      "provenance": [],
      "authorship_tag": "ABX9TyMQkBQUERvZujyltUyNEabY",
      "include_colab_link": true
    },
    "kernelspec": {
      "name": "python3",
      "display_name": "Python 3"
    },
    "language_info": {
      "name": "python"
    }
  },
  "cells": [
    {
      "cell_type": "markdown",
      "metadata": {
        "id": "view-in-github",
        "colab_type": "text"
      },
      "source": [
        "<a href=\"https://colab.research.google.com/github/akashsinghsharma/python-notes/blob/main/PANDAS_Extras.ipynb\" target=\"_parent\"><img src=\"https://colab.research.google.com/assets/colab-badge.svg\" alt=\"Open In Colab\"/></a>"
      ]
    },
    {
      "cell_type": "markdown",
      "source": [
        "**np.arrange**"
      ],
      "metadata": {
        "id": "RBy7PjU-ua9r"
      }
    },
    {
      "cell_type": "code",
      "execution_count": null,
      "metadata": {
        "id": "ynHzHDuXuXAX"
      },
      "outputs": [],
      "source": []
    },
    {
      "cell_type": "markdown",
      "source": [
        "**df.index**"
      ],
      "metadata": {
        "id": "m8iDVkalueZM"
      }
    },
    {
      "cell_type": "markdown",
      "source": [
        "https://www.kaggle.com/code/ryanholbrook/linear-regression-with-time-series\n",
        "\n",
        "`df['Lag_1'] = df['Hardcover'].shift(1)`\n",
        "\n",
        "`df = df.reindex(columns=['Hardcover', 'Lag_1'])`\n",
        "\n",
        "`df.head()`\n",
        "\n",
        "\n"
      ],
      "metadata": {
        "id": "LWq5TaM_veDa"
      }
    },
    {
      "cell_type": "markdown",
      "source": [
        "**Python | Pandas.to_datetime()**\n",
        "\n",
        "When a csv file is imported and a Data Frame is made, the Date time objects in the file are read as a string object rather a Date Time object and Hence it’s very tough to perform operations like Time difference on a string rather a Date Time object. Pandas to_datetime() method helps to convert string Date time into Python Date time object."
      ],
      "metadata": {
        "id": "wp5MAocwvptH"
      }
    },
    {
      "cell_type": "code",
      "source": [
        "# making data frame from csv file\n",
        "# data = pd.read_csv(\"todatetime.csv\")\n",
        "\n",
        "# overwriting data after changing format\n",
        "# data[\"Date\"]= pd.to_datetime(data[\"Date\"])"
      ],
      "metadata": {
        "id": "mQ6ijOd3rGWk"
      },
      "execution_count": null,
      "outputs": []
    },
    {
      "cell_type": "markdown",
      "source": [
        "idxmax()\n",
        "\n",
        "Returns a Series with the index of the maximum value for each column."
      ],
      "metadata": {
        "id": "Aj9Bxzqtuocg"
      }
    }
  ]
}