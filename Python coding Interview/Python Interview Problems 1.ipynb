{
 "cells": [
  {
   "cell_type": "markdown",
   "id": "cfa5c7c5",
   "metadata": {},
   "source": [
    "**Some common easy interview coding Question from Python**\n",
    "\n",
    "***"
   ]
  },
  {
   "cell_type": "markdown",
   "id": "ad408acd",
   "metadata": {},
   "source": [
    "1. Write a program to print the given number is odd or even."
   ]
  },
  {
   "cell_type": "code",
   "execution_count": 6,
   "id": "33664636",
   "metadata": {},
   "outputs": [
    {
     "name": "stdout",
     "output_type": "stream",
     "text": [
      "Enter some number56\n",
      "56 is Even\n"
     ]
    }
   ],
   "source": [
    "def odd_or_even(num):\n",
    "    '''This function checks if given number is odd or even'''\n",
    "    \n",
    "    if num%2 == 0:\n",
    "        print(f'{num} is Even')\n",
    "    \n",
    "    else:\n",
    "        print(f'{num} is Odd')\n",
    "\n",
    "in1 = int(input(\"Enter some number\"))\n",
    "odd_or_even(in1)"
   ]
  },
  {
   "cell_type": "markdown",
   "id": "55ef2f91",
   "metadata": {},
   "source": [
    "2. Write a program to find the given number is positive or negative."
   ]
  },
  {
   "cell_type": "code",
   "execution_count": 10,
   "id": "881cb2e7",
   "metadata": {},
   "outputs": [
    {
     "name": "stdout",
     "output_type": "stream",
     "text": [
      "Enter some number0\n",
      "zero\n"
     ]
    }
   ],
   "source": [
    "def positive_or_negative(num):\n",
    "    '''This function will tell if the number is positive or negative'''\n",
    "    \n",
    "    num = float(num)\n",
    "    if num>0:\n",
    "        print('positive')\n",
    "        \n",
    "    elif num==0:\n",
    "        print('zero')\n",
    "        \n",
    "    else:\n",
    "        print('negative')\n",
    "        \n",
    "\n",
    "in2 = input(\"Enter some number\")\n",
    "positive_or_negative(in2)"
   ]
  },
  {
   "cell_type": "markdown",
   "id": "30aaa29c",
   "metadata": {},
   "source": [
    "3. Write a program to find the sum of two numbers."
   ]
  },
  {
   "cell_type": "code",
   "execution_count": 15,
   "id": "9c7d944a",
   "metadata": {},
   "outputs": [
    {
     "name": "stdout",
     "output_type": "stream",
     "text": [
      "-5\n",
      "5\n"
     ]
    },
    {
     "data": {
      "text/plain": [
       "0"
      ]
     },
     "execution_count": 15,
     "metadata": {},
     "output_type": "execute_result"
    }
   ],
   "source": [
    "def sum_of2(x,y):\n",
    "    \n",
    "    '''This function adds two number'''\n",
    "    x, y = int(x) , int(y)\n",
    "    \n",
    "    sum = x+y\n",
    "    \n",
    "    return sum\n",
    "\n",
    "x, y  = input(), input()\n",
    "sum_of2(x,y)"
   ]
  },
  {
   "cell_type": "markdown",
   "id": "105b047a",
   "metadata": {},
   "source": [
    "4. Write a program to find if the given number is prime or not."
   ]
  },
  {
   "cell_type": "code",
   "execution_count": 22,
   "id": "4e7ebe4a",
   "metadata": {},
   "outputs": [
    {
     "name": "stdout",
     "output_type": "stream",
     "text": [
      "Enter some number23\n",
      "Prime\n"
     ]
    }
   ],
   "source": [
    "def prime_or_not(num):\n",
    "    \n",
    "    '''This function will check if a given number is prime or not'''\n",
    "    \n",
    "    num = int(num)\n",
    "    \n",
    "    flag = False\n",
    "    \n",
    "    if num>1:\n",
    "        for i in range(2, num):\n",
    "            if (num%i) == 0:\n",
    "                flag = True\n",
    "            \n",
    "                break\n",
    "            \n",
    "        if flag == True:\n",
    "            print('Not Prime')\n",
    "        \n",
    "        else:\n",
    "            print(\"Prime\")\n",
    "\n",
    "in3 = input('Enter some number')\n",
    "prime_or_not(in3)"
   ]
  },
  {
   "cell_type": "markdown",
   "id": "cdd57b22",
   "metadata": {},
   "source": [
    "5. Write a program to check if the given number is palindrome or not."
   ]
  },
  {
   "cell_type": "markdown",
   "id": "8e5b6c1a",
   "metadata": {},
   "source": [
    "**String based approach**\n",
    "\n",
    "Versatile but not very effective for very large numbers."
   ]
  },
  {
   "cell_type": "code",
   "execution_count": 29,
   "id": "62ead05e",
   "metadata": {},
   "outputs": [
    {
     "name": "stdout",
     "output_type": "stream",
     "text": [
      "-1236321\n",
      "not a palindrome\n"
     ]
    }
   ],
   "source": [
    "def palindrome_check(subject):\n",
    "    '''This function will check if the given item is a palindrome or not'''\n",
    "    subject = subject.lower().strip()\n",
    "    \n",
    "    rev_subject = subject[::-1]\n",
    "    \n",
    "    if subject == rev_subject:\n",
    "        print('palindrome')\n",
    "        \n",
    "    else:\n",
    "        print('not a palindrome')\n",
    "    \n",
    "in4 = input()\n",
    "palindrome_check(in4)"
   ]
  },
  {
   "cell_type": "markdown",
   "id": "b74fddcf",
   "metadata": {},
   "source": [
    "**Integer Based approach**\n",
    "\n",
    "Used specifically for inetegers, but effective for large numbers."
   ]
  },
  {
   "cell_type": "code",
   "execution_count": 36,
   "id": "8052cb34",
   "metadata": {},
   "outputs": [
    {
     "name": "stdout",
     "output_type": "stream",
     "text": [
      "12321\n",
      "palindrome\n"
     ]
    }
   ],
   "source": [
    "def palindrom_checkint(subject):\n",
    "    '''This programme will check if the given integer is a palindrome or not'''\n",
    "    \n",
    "    subject = int(subject)\n",
    "    \n",
    "    temp = subject\n",
    "    reverse = 0\n",
    "    \n",
    "    while temp > 0:\n",
    "        rem = temp % 10\n",
    "        reverse = (reverse * 10) + rem\n",
    "        temp = temp//10\n",
    "    \n",
    "    if subject == reverse:\n",
    "        print('palindrome')\n",
    "    \n",
    "    else:\n",
    "        print('not palindrome')\n",
    "\n",
    "in5 = input()\n",
    "palindrom_checkint(in5)"
   ]
  },
  {
   "cell_type": "markdown",
   "id": "b8fb7f91",
   "metadata": {},
   "source": [
    "6. Write a program to check if the given number is Armstrong or not."
   ]
  },
  {
   "cell_type": "code",
   "execution_count": 54,
   "id": "f9733c15",
   "metadata": {},
   "outputs": [
    {
     "name": "stdout",
     "output_type": "stream",
     "text": [
      "407\n",
      "armstrong\n"
     ]
    }
   ],
   "source": [
    "def armstrong_check(subject):\n",
    "    \n",
    "    '''This functions checks if the given number is armstrong or not'''\n",
    "    subject = int(subject)\n",
    "    \n",
    "    temp_list = []\n",
    "    temp_num = subject\n",
    "    while temp_num > 0:\n",
    "        reminder = temp_num % 10\n",
    "        temp_list.append(reminder)\n",
    "        temp_num = temp_num // 10\n",
    "    \n",
    "    digit_length = len(temp_list)\n",
    "    sum_armstrong = 0\n",
    "    \n",
    "    for i in temp_list:\n",
    "        sum_armstrong = sum_armstrong + i**digit_length\n",
    "    \n",
    "    if sum_armstrong == subject:\n",
    "        print('armstrong')\n",
    "        \n",
    "    else:\n",
    "        print('not armstrong')\n",
    "\n",
    "inp6 = input('')\n",
    "armstrong_check(inp6)"
   ]
  },
  {
   "cell_type": "markdown",
   "id": "d4af4642",
   "metadata": {},
   "source": [
    "There is another approach, without using list. Do try. "
   ]
  },
  {
   "cell_type": "markdown",
   "id": "725d6992",
   "metadata": {},
   "source": [
    "7. Write a program to check if the given strings are anagram or not."
   ]
  },
  {
   "cell_type": "code",
   "execution_count": 60,
   "id": "1f77a144",
   "metadata": {},
   "outputs": [
    {
     "name": "stdout",
     "output_type": "stream",
     "text": [
      "Listen\n",
      "silent\n",
      "anagram\n"
     ]
    }
   ],
   "source": [
    "def anagram_check(w1, w2):\n",
    "    '''This function checks if two given inputs are anagram or not'''\n",
    "    \n",
    "    w1, w2 = w1.lower(), w2.lower()\n",
    "    \n",
    "    if sorted(w1) == sorted(w2):\n",
    "        print('anagram')\n",
    "        \n",
    "    else:\n",
    "        print('not anagram')\n",
    "\n",
    "inp71, inp72 = input(), input()\n",
    "anagram_check(inp71, inp72)"
   ]
  },
  {
   "cell_type": "markdown",
   "id": "9010879e",
   "metadata": {},
   "source": [
    "8. Write a program to find a maximum of three numbers."
   ]
  },
  {
   "cell_type": "markdown",
   "id": "bc3d8db7",
   "metadata": {},
   "source": [
    "**With inbuild function**"
   ]
  },
  {
   "cell_type": "code",
   "execution_count": null,
   "id": "d65b650e",
   "metadata": {},
   "outputs": [],
   "source": []
  },
  {
   "cell_type": "markdown",
   "id": "1bc9d2aa",
   "metadata": {},
   "source": [
    "**Without inbuilt function**"
   ]
  },
  {
   "cell_type": "code",
   "execution_count": 63,
   "id": "29b29070",
   "metadata": {},
   "outputs": [
    {
     "name": "stdout",
     "output_type": "stream",
     "text": [
      "56\n",
      "96\n",
      "42\n"
     ]
    },
    {
     "data": {
      "text/plain": [
       "96"
      ]
     },
     "execution_count": 63,
     "metadata": {},
     "output_type": "execute_result"
    }
   ],
   "source": [
    "def largest_in_three(a, b, c):\n",
    "    \n",
    "    '''This function checks largest number among three number'''\n",
    "    \n",
    "    a, b, c = int(a), int(b), int(c)\n",
    "    \n",
    "    largest = 0\n",
    "    if (a>b) & (a>c):\n",
    "        largest = a\n",
    "    \n",
    "    elif (b>a) & (b>c):\n",
    "        largest = b\n",
    "    \n",
    "    else:\n",
    "        largest = c\n",
    "        \n",
    "    return largest\n",
    "\n",
    "a, b, c = input(), input(), input()\n",
    "largest_in_three(a, b, c)"
   ]
  },
  {
   "cell_type": "markdown",
   "id": "4b63d807",
   "metadata": {},
   "source": [
    "9. Write a program to find a factorial of a number."
   ]
  },
  {
   "cell_type": "code",
   "execution_count": 69,
   "id": "670235c8",
   "metadata": {},
   "outputs": [
    {
     "name": "stdout",
     "output_type": "stream",
     "text": [
      "0\n"
     ]
    },
    {
     "data": {
      "text/plain": [
       "1"
      ]
     },
     "execution_count": 69,
     "metadata": {},
     "output_type": "execute_result"
    }
   ],
   "source": [
    "def factorial(num):\n",
    "    \n",
    "    '''This function finds the factorial'''\n",
    "    \n",
    "    num = int(num)\n",
    "    \n",
    "    fact = 1\n",
    "    if num < 0:\n",
    "        fact = 1\n",
    "        \n",
    "    elif num == 0:\n",
    "        fact = 1\n",
    "    \n",
    "    else:\n",
    "        for i in range(2, num+1):\n",
    "            fact *= i\n",
    "    \n",
    "    return fact\n",
    "\n",
    "inp9 = input()\n",
    "factorial(inp9)"
   ]
  },
  {
   "cell_type": "markdown",
   "id": "5cb65358",
   "metadata": {},
   "source": [
    "10. Write a program to find a fibonacci of a number."
   ]
  },
  {
   "cell_type": "code",
   "execution_count": 73,
   "id": "4c42af4f",
   "metadata": {},
   "outputs": [
    {
     "name": "stdout",
     "output_type": "stream",
     "text": [
      "7\n",
      "0\n",
      "1\n",
      "1\n",
      "2\n",
      "3\n",
      "5\n",
      "8\n"
     ]
    }
   ],
   "source": [
    "def fibonacchi(n):\n",
    "    \n",
    "    '''This code writes fibonacchi series till n digits'''\n",
    "    \n",
    "    n1, n2 = 0,1\n",
    "    count = 0\n",
    "    if n <= 0:\n",
    "        print('Please enter positive number')\n",
    "    \n",
    "    elif n == 1:\n",
    "        print(n1)\n",
    "        \n",
    "    else:\n",
    "        while count< n:\n",
    "            print(n1)\n",
    "            \n",
    "            nth = n1 + n2\n",
    "            n1 = n2\n",
    "            n2 = nth\n",
    "            count += 1\n",
    "\n",
    "inp10 = int(input())\n",
    "fibonacchi(inp10)"
   ]
  }
 ],
 "metadata": {
  "kernelspec": {
   "display_name": "Python 3 (ipykernel)",
   "language": "python",
   "name": "python3"
  },
  "language_info": {
   "codemirror_mode": {
    "name": "ipython",
    "version": 3
   },
   "file_extension": ".py",
   "mimetype": "text/x-python",
   "name": "python",
   "nbconvert_exporter": "python",
   "pygments_lexer": "ipython3",
   "version": "3.11.4"
  }
 },
 "nbformat": 4,
 "nbformat_minor": 5
}
