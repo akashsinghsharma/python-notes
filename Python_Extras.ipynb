{
  "nbformat": 4,
  "nbformat_minor": 0,
  "metadata": {
    "colab": {
      "provenance": [],
      "include_colab_link": true
    },
    "kernelspec": {
      "name": "python3",
      "display_name": "Python 3"
    },
    "language_info": {
      "name": "python"
    }
  },
  "cells": [
    {
      "cell_type": "markdown",
      "metadata": {
        "id": "view-in-github",
        "colab_type": "text"
      },
      "source": [
        "<a href=\"https://colab.research.google.com/github/akashsinghsharma/python-notes/blob/main/Python_Extras.ipynb\" target=\"_parent\"><img src=\"https://colab.research.google.com/assets/colab-badge.svg\" alt=\"Open In Colab\"/></a>"
      ]
    },
    {
      "cell_type": "markdown",
      "source": [
        "***Supercharging functions***"
      ],
      "metadata": {
        "id": "_V0LtylBoWVM"
      }
    },
    {
      "cell_type": "code",
      "execution_count": null,
      "metadata": {
        "id": "46mAbD5PoAaZ"
      },
      "outputs": [],
      "source": [
        "def increment(n):\n",
        "  print('do 1000 operations')\n",
        "  return n+1"
      ]
    },
    {
      "cell_type": "code",
      "source": [
        "increment(2)"
      ],
      "metadata": {
        "colab": {
          "base_uri": "https://localhost:8080/"
        },
        "id": "nAK9z3TCoP4s",
        "outputId": "4aa0c93f-435c-44b5-c604-d2dde24d00c4"
      },
      "execution_count": null,
      "outputs": [
        {
          "output_type": "stream",
          "name": "stdout",
          "text": [
            "do 1000 operations\n"
          ]
        },
        {
          "output_type": "execute_result",
          "data": {
            "text/plain": [
              "3"
            ]
          },
          "metadata": {},
          "execution_count": 2
        }
      ]
    },
    {
      "cell_type": "code",
      "source": [
        "increment(3)"
      ],
      "metadata": {
        "colab": {
          "base_uri": "https://localhost:8080/"
        },
        "id": "8IWNeMxMoRir",
        "outputId": "c6f4211b-9ab3-43d3-c2ac-2c7e2443f632"
      },
      "execution_count": null,
      "outputs": [
        {
          "output_type": "stream",
          "name": "stdout",
          "text": [
            "do 1000 operations\n"
          ]
        },
        {
          "output_type": "execute_result",
          "data": {
            "text/plain": [
              "4"
            ]
          },
          "metadata": {},
          "execution_count": 3
        }
      ]
    },
    {
      "cell_type": "code",
      "source": [
        "increment(2)"
      ],
      "metadata": {
        "colab": {
          "base_uri": "https://localhost:8080/"
        },
        "id": "fCwdP-t7oUB7",
        "outputId": "5dd9a72d-4649-4f93-c261-cad15c8a1345"
      },
      "execution_count": null,
      "outputs": [
        {
          "output_type": "stream",
          "name": "stdout",
          "text": [
            "do 1000 operations\n"
          ]
        },
        {
          "output_type": "execute_result",
          "data": {
            "text/plain": [
              "3"
            ]
          },
          "metadata": {},
          "execution_count": 4
        }
      ]
    },
    {
      "cell_type": "markdown",
      "source": [
        "Here, even when the function is taking same input, it is doing 1000 of different operations again and again. This can be optimized."
      ],
      "metadata": {
        "id": "ihUDWyiUocnM"
      }
    },
    {
      "cell_type": "code",
      "source": [
        "from functools import lru_cache\n",
        "\n",
        "@lru_cache # lru: least recently used. # this is called decorator.\n",
        "def increment(n):\n",
        "  print('do 1000 operations')\n",
        "  return n+1"
      ],
      "metadata": {
        "id": "wyh7-5bXoVPL"
      },
      "execution_count": null,
      "outputs": []
    },
    {
      "cell_type": "code",
      "source": [
        "increment(2)"
      ],
      "metadata": {
        "colab": {
          "base_uri": "https://localhost:8080/"
        },
        "id": "2GHikeX4pDCt",
        "outputId": "294ba0aa-45ac-479e-b0c7-4cf3f878f814"
      },
      "execution_count": null,
      "outputs": [
        {
          "output_type": "stream",
          "name": "stdout",
          "text": [
            "do 1000 operations\n"
          ]
        },
        {
          "output_type": "execute_result",
          "data": {
            "text/plain": [
              "3"
            ]
          },
          "metadata": {},
          "execution_count": 6
        }
      ]
    },
    {
      "cell_type": "code",
      "source": [
        "increment(2)"
      ],
      "metadata": {
        "colab": {
          "base_uri": "https://localhost:8080/"
        },
        "id": "ad9Q9Ow-pFgs",
        "outputId": "4a73ad1e-2406-40cc-c92c-7590a64cc53d"
      },
      "execution_count": null,
      "outputs": [
        {
          "output_type": "execute_result",
          "data": {
            "text/plain": [
              "3"
            ]
          },
          "metadata": {},
          "execution_count": 7
        }
      ]
    },
    {
      "cell_type": "code",
      "source": [],
      "metadata": {
        "id": "-g5Sg8tMpIak"
      },
      "execution_count": null,
      "outputs": []
    },
    {
      "cell_type": "markdown",
      "source": [
        "***map() Function***"
      ],
      "metadata": {
        "id": "fcvwe1udHOI5"
      }
    },
    {
      "cell_type": "code",
      "source": [
        "#Syntax : map(function, interable)\n",
        "\n"
      ],
      "metadata": {
        "id": "URrHgbx-HVyU"
      },
      "execution_count": null,
      "outputs": []
    },
    {
      "cell_type": "markdown",
      "source": [
        "***isinstance() Function***"
      ],
      "metadata": {
        "id": "wJZqZjAgOOP3"
      }
    },
    {
      "cell_type": "code",
      "source": [
        "x = isinstance(5, int)"
      ],
      "metadata": {
        "id": "CP6VeJpBOQLb"
      },
      "execution_count": null,
      "outputs": []
    },
    {
      "cell_type": "code",
      "source": [
        "class myObj:\n",
        "  name = \"John\"\n",
        "\n",
        "y = myObj()\n",
        "\n",
        "x = isinstance(y, myObj)"
      ],
      "metadata": {
        "id": "fXy3eX55OS2v"
      },
      "execution_count": null,
      "outputs": []
    },
    {
      "cell_type": "markdown",
      "source": [
        "\n",
        "\n",
        "---\n",
        "\n",
        "\n",
        "***hash(tuple)***"
      ],
      "metadata": {
        "id": "h90T12n8cFoQ"
      }
    },
    {
      "cell_type": "markdown",
      "source": [
        "Suppose we have a tuple. There are few numbers are present. We have to find the hash value of this tuple by using hash() function. This is a built-in function. The hash() function can work on some datatypes like int, float, string, tuples etc, but some types like lists are not hashable. As lists are mutable in nature, we cannot hash it. This hash value is used to map other values when we use dictionary.\n",
        "\n",
        "So, if the input is like t = (2,4,5,6,7,8), then the output will be -1970127882925375109\n",
        "\n",
        "To solve this, we will follow these steps −\n",
        "\n",
        "take the tuple as input\n",
        "\n",
        "call hash function and pass the tuple into it hash(tuple)"
      ],
      "metadata": {
        "id": "Cmgu-o7pcKyX"
      }
    },
    {
      "cell_type": "markdown",
      "source": [
        "\n",
        "\n",
        "---\n",
        "\n",
        "\n",
        "***startwith() function***"
      ],
      "metadata": {
        "id": "olhQLZxi7Iti"
      }
    },
    {
      "cell_type": "code",
      "source": [
        "txt = \"Hello, welcome to my world.\"\n",
        "\n",
        "x = txt.startswith(\"Hello\")\n",
        "\n",
        "print(x)"
      ],
      "metadata": {
        "colab": {
          "base_uri": "https://localhost:8080/"
        },
        "id": "H9AIYSko7JB3",
        "outputId": "ffde106f-197f-449e-c9ec-5a1bc36b1cea"
      },
      "execution_count": null,
      "outputs": [
        {
          "output_type": "stream",
          "name": "stdout",
          "text": [
            "True\n"
          ]
        }
      ]
    },
    {
      "cell_type": "markdown",
      "source": [
        "`string.startswith(value, start #Optional, end #Optional)`"
      ],
      "metadata": {
        "id": "pNYD4tsu7dFZ"
      }
    },
    {
      "cell_type": "markdown",
      "source": [
        "\n",
        "\n",
        "---\n",
        "\n",
        "\n",
        "***String find() Method***"
      ],
      "metadata": {
        "id": "9HbPJwHv8hmn"
      }
    },
    {
      "cell_type": "code",
      "source": [
        "txt = \"Hello, welcome to my world.\"\n",
        "\n",
        "x = txt.find(\"welcome\")\n",
        "\n",
        "print(x)"
      ],
      "metadata": {
        "colab": {
          "base_uri": "https://localhost:8080/"
        },
        "id": "XlDSg-kr7YUU",
        "outputId": "f0d89e13-8a0c-41f8-9e91-b5d82d62dccb"
      },
      "execution_count": null,
      "outputs": [
        {
          "output_type": "stream",
          "name": "stdout",
          "text": [
            "7\n"
          ]
        }
      ]
    },
    {
      "cell_type": "markdown",
      "source": [
        "`string.find(value, start #Optional where to start search, end #optional where to end search)`"
      ],
      "metadata": {
        "id": "NlcT1qco825P"
      }
    },
    {
      "cell_type": "markdown",
      "source": [
        "\n",
        "\n",
        "---\n",
        "\n",
        "\n",
        "***str.isalnum()***\n",
        "\n",
        "It checks if a given string only have numers and alphabets or symbols or other stuffs as well."
      ],
      "metadata": {
        "id": "8g1ZrIDo9x3c"
      }
    },
    {
      "cell_type": "code",
      "source": [
        "print('ab123'.isalnum())"
      ],
      "metadata": {
        "colab": {
          "base_uri": "https://localhost:8080/"
        },
        "id": "kJKjCMS68xqs",
        "outputId": "d0079c1e-3e9e-426d-82dd-f6137c24e5b2"
      },
      "execution_count": null,
      "outputs": [
        {
          "output_type": "stream",
          "name": "stdout",
          "text": [
            "True\n"
          ]
        }
      ]
    },
    {
      "cell_type": "code",
      "source": [
        "print('ab123#'.isalnum())"
      ],
      "metadata": {
        "colab": {
          "base_uri": "https://localhost:8080/"
        },
        "id": "HbQuMTiR-ODT",
        "outputId": "46682d71-1a3d-49ea-bf4e-8c9ae9cc00dc"
      },
      "execution_count": null,
      "outputs": [
        {
          "output_type": "stream",
          "name": "stdout",
          "text": [
            "False\n"
          ]
        }
      ]
    },
    {
      "cell_type": "markdown",
      "source": [
        "***str.isalpha()***\n",
        "\n",
        "This checks if all are alphabets or not.\n",
        "\n",
        "***str.isdigit()***\n",
        "\n",
        "This method checks if all are digits or not. Remember that you can input the numbers here as string format with ' '.\n",
        "\n",
        "***str.islower()***\n",
        "\n",
        "***str.isupper()***\n",
        "\n",
        "To check if it is lower case or upper case respictevly."
      ],
      "metadata": {
        "id": "kDhL2qkn-rr6"
      }
    },
    {
      "cell_type": "markdown",
      "source": [
        "\n",
        "\n",
        "---\n",
        "vvi: In python, False or True is True. This will be very important in solving questions. Try and experiment other TRue False facts.\n"
      ],
      "metadata": {
        "id": "nno2-74I-m6a"
      }
    },
    {
      "cell_type": "code",
      "source": [
        "False or True"
      ],
      "metadata": {
        "colab": {
          "base_uri": "https://localhost:8080/"
        },
        "id": "zWcSwMJA-XGw",
        "outputId": "2d30a6f7-b9f3-45e1-a205-1483412320bc"
      },
      "execution_count": null,
      "outputs": [
        {
          "output_type": "execute_result",
          "data": {
            "text/plain": [
              "True"
            ]
          },
          "metadata": {},
          "execution_count": 8
        }
      ]
    },
    {
      "cell_type": "code",
      "source": [
        "False and True"
      ],
      "metadata": {
        "colab": {
          "base_uri": "https://localhost:8080/"
        },
        "id": "1-q9IXAVH9m4",
        "outputId": "d2ccf2c0-9091-4a56-81db-2966ae35ac21"
      },
      "execution_count": null,
      "outputs": [
        {
          "output_type": "execute_result",
          "data": {
            "text/plain": [
              "False"
            ]
          },
          "metadata": {},
          "execution_count": 9
        }
      ]
    },
    {
      "cell_type": "markdown",
      "source": [
        "\n",
        "\n",
        "---\n",
        "\n",
        "\n",
        ".ljust(width)\n",
        "\n",
        ".center(width)\n",
        "\n",
        ".rjust(width)\n",
        "\n",
        "use method above like example below to adjust print statement. Not that it's used a lot but it is there.\n",
        "\n"
      ],
      "metadata": {
        "id": "XPMH3WlhTlOF"
      }
    },
    {
      "cell_type": "code",
      "source": [
        "width = 20\n",
        "print('HackerRank'.ljust(width,'-'))"
      ],
      "metadata": {
        "id": "-7aBfM94KC2I",
        "colab": {
          "base_uri": "https://localhost:8080/"
        },
        "outputId": "5d9bf2a2-3079-47dd-93ed-10016a5b5b44"
      },
      "execution_count": 2,
      "outputs": [
        {
          "output_type": "stream",
          "name": "stdout",
          "text": [
            "HackerRank----------\n"
          ]
        }
      ]
    },
    {
      "cell_type": "markdown",
      "source": [
        "\n",
        "\n",
        "---\n",
        "\n"
      ],
      "metadata": {
        "id": "8C05swe9UQiX"
      }
    },
    {
      "cell_type": "code",
      "source": [],
      "metadata": {
        "id": "zqgjJkVXTvp-"
      },
      "execution_count": null,
      "outputs": []
    }
  ]
}