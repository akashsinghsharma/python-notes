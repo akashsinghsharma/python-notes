{
  "nbformat": 4,
  "nbformat_minor": 0,
  "metadata": {
    "colab": {
      "provenance": [],
      "authorship_tag": "ABX9TyPEjPD3NWHL14FsD8qOMJUf",
      "include_colab_link": true
    },
    "kernelspec": {
      "name": "python3",
      "display_name": "Python 3"
    },
    "language_info": {
      "name": "python"
    }
  },
  "cells": [
    {
      "cell_type": "markdown",
      "metadata": {
        "id": "view-in-github",
        "colab_type": "text"
      },
      "source": [
        "<a href=\"https://colab.research.google.com/github/akashsinghsharma/python-notes/blob/main/Complete_Python_Basic.ipynb\" target=\"_parent\"><img src=\"https://colab.research.google.com/assets/colab-badge.svg\" alt=\"Open In Colab\"/></a>"
      ]
    },
    {
      "cell_type": "markdown",
      "source": [
        "This is the lab where anyone intrested in python can start from scratch and learn everything about it. I will start with what basic of all python code and later will see different data structures in python and different operations."
      ],
      "metadata": {
        "id": "xKvu6Rkd6ci9"
      }
    },
    {
      "cell_type": "markdown",
      "source": [
        "The most basic code for any coding language is to get it to print something. In python it's really simple."
      ],
      "metadata": {
        "id": "hJEMLsZ7fNPp"
      }
    },
    {
      "cell_type": "code",
      "execution_count": 1,
      "metadata": {
        "id": "MVDC9ix_6Twp",
        "colab": {
          "base_uri": "https://localhost:8080/"
        },
        "outputId": "a71853d7-ccb0-44c2-f9c3-c0b83498884e"
      },
      "outputs": [
        {
          "output_type": "stream",
          "name": "stdout",
          "text": [
            "Hello world, why do you exist?\n"
          ]
        }
      ],
      "source": [
        "print('Hello world, why do you exist?')"
      ]
    },
    {
      "cell_type": "markdown",
      "source": [
        "Just use print command, give it things to print inside () and it will do exactly that. We pass \"\" inside () when we want it to print any \"string\" meaning words, letters, etc.\n",
        "\n",
        "We can also define variables and make python print that."
      ],
      "metadata": {
        "id": "gThMgB9qe0ny"
      }
    },
    {
      "cell_type": "code",
      "source": [
        "a = 56\n",
        "b = 120\n",
        "\n",
        "print(b)"
      ],
      "metadata": {
        "colab": {
          "base_uri": "https://localhost:8080/"
        },
        "id": "vxdJWyBBezP8",
        "outputId": "c36b211a-9af5-429c-a962-f9a38422fd50"
      },
      "execution_count": 2,
      "outputs": [
        {
          "output_type": "stream",
          "name": "stdout",
          "text": [
            "120\n"
          ]
        }
      ]
    },
    {
      "cell_type": "markdown",
      "source": [
        "We can also define variable as string like below."
      ],
      "metadata": {
        "id": "e7ouDTcvfKj2"
      }
    },
    {
      "cell_type": "code",
      "source": [
        "a = 'Akash'\n",
        "print(type(a))"
      ],
      "metadata": {
        "colab": {
          "base_uri": "https://localhost:8080/"
        },
        "id": "qrZuMVQUfJYQ",
        "outputId": "e267a793-0094-437c-f5e2-6020bbf36296"
      },
      "execution_count": 4,
      "outputs": [
        {
          "output_type": "stream",
          "name": "stdout",
          "text": [
            "<class 'str'>\n"
          ]
        }
      ]
    },
    {
      "cell_type": "markdown",
      "source": [
        "Data Types in python:\n",
        "\n",
        "1. String: Like the one we have seen above. It contains words, sentences, etc. Anything we pass in with \"\" will be contained as string, be it number, symbols or anything else.\n",
        "\n",
        "2. Integer: Anything related to numbers."
      ],
      "metadata": {
        "id": "dWYjaw3YfdVp"
      }
    },
    {
      "cell_type": "code",
      "source": [
        "print(type(b))"
      ],
      "metadata": {
        "colab": {
          "base_uri": "https://localhost:8080/"
        },
        "id": "bYSdXj40fbHc",
        "outputId": "3ac9ad3b-993d-44b8-b32d-3134063089d3"
      },
      "execution_count": 5,
      "outputs": [
        {
          "output_type": "stream",
          "name": "stdout",
          "text": [
            "<class 'int'>\n"
          ]
        }
      ]
    },
    {
      "cell_type": "markdown",
      "source": [
        "3. Float: We can also store float, i.e. number with decimal points."
      ],
      "metadata": {
        "id": "rGPEZem2f0A1"
      }
    },
    {
      "cell_type": "code",
      "source": [
        "c = 56.233\n",
        "print(type(c))"
      ],
      "metadata": {
        "colab": {
          "base_uri": "https://localhost:8080/"
        },
        "id": "uwWKD_zCfyEv",
        "outputId": "54d76c17-5b4f-4965-f6f4-c0546a8fcddb"
      },
      "execution_count": 6,
      "outputs": [
        {
          "output_type": "stream",
          "name": "stdout",
          "text": [
            "<class 'float'>\n"
          ]
        }
      ]
    },
    {
      "cell_type": "markdown",
      "source": [
        "We can also convert int into float class by passing it through float()"
      ],
      "metadata": {
        "id": "pETtjzpFgAMB"
      }
    },
    {
      "cell_type": "code",
      "source": [
        "d = float(b)\n",
        "print(d)\n",
        "type(d)"
      ],
      "metadata": {
        "colab": {
          "base_uri": "https://localhost:8080/"
        },
        "id": "ZalT1Y7Tf-Ov",
        "outputId": "90f585d9-4c42-475d-c51a-795f7d655569"
      },
      "execution_count": 8,
      "outputs": [
        {
          "output_type": "stream",
          "name": "stdout",
          "text": [
            "120.0\n"
          ]
        },
        {
          "output_type": "execute_result",
          "data": {
            "text/plain": [
              "float"
            ]
          },
          "metadata": {},
          "execution_count": 8
        }
      ]
    },
    {
      "cell_type": "markdown",
      "source": [],
      "metadata": {
        "id": "xyyfjIojgRdM"
      }
    },
    {
      "cell_type": "markdown",
      "source": [
        "4. List: It's is used to store multiple items together, be it integer, float, integer, or anything. It's stored with []."
      ],
      "metadata": {
        "id": "_F3TEVSVgRjO"
      }
    },
    {
      "cell_type": "code",
      "source": [
        "list1= ['akash', 'kumar', '564', 'Singh sharma', '5698']"
      ],
      "metadata": {
        "id": "MMBxPCRygLBk"
      },
      "execution_count": 11,
      "outputs": []
    },
    {
      "cell_type": "markdown",
      "source": [
        "Lists are indexed as well, meaning you can pull anyone word/int/etc out of list by using index. You can use double index to pull something inside any item in list too."
      ],
      "metadata": {
        "id": "UdJeBvVGgqwY"
      }
    },
    {
      "cell_type": "code",
      "source": [
        "list1[0]"
      ],
      "metadata": {
        "colab": {
          "base_uri": "https://localhost:8080/",
          "height": 35
        },
        "id": "5dowUnYDgpde",
        "outputId": "6d5bd05e-d883-49db-a461-7e0b51d4247e"
      },
      "execution_count": 12,
      "outputs": [
        {
          "output_type": "execute_result",
          "data": {
            "text/plain": [
              "'akash'"
            ],
            "application/vnd.google.colaboratory.intrinsic+json": {
              "type": "string"
            }
          },
          "metadata": {},
          "execution_count": 12
        }
      ]
    },
    {
      "cell_type": "code",
      "source": [
        "list1[-1]"
      ],
      "metadata": {
        "colab": {
          "base_uri": "https://localhost:8080/",
          "height": 35
        },
        "id": "s4SjtswSg2NH",
        "outputId": "eaad5315-ba2f-4dfd-92df-20affe7c04cb"
      },
      "execution_count": 13,
      "outputs": [
        {
          "output_type": "execute_result",
          "data": {
            "text/plain": [
              "'5698'"
            ],
            "application/vnd.google.colaboratory.intrinsic+json": {
              "type": "string"
            }
          },
          "metadata": {},
          "execution_count": 13
        }
      ]
    },
    {
      "cell_type": "code",
      "source": [
        "list1[4]"
      ],
      "metadata": {
        "colab": {
          "base_uri": "https://localhost:8080/",
          "height": 35
        },
        "id": "Nl6b3ZWmg7-B",
        "outputId": "b0b893cd-fbcf-405c-85dc-440fc5c264ff"
      },
      "execution_count": 14,
      "outputs": [
        {
          "output_type": "execute_result",
          "data": {
            "text/plain": [
              "'5698'"
            ],
            "application/vnd.google.colaboratory.intrinsic+json": {
              "type": "string"
            }
          },
          "metadata": {},
          "execution_count": 14
        }
      ]
    },
    {
      "cell_type": "code",
      "source": [
        "list1[-1::-1]"
      ],
      "metadata": {
        "colab": {
          "base_uri": "https://localhost:8080/"
        },
        "id": "w9UXwy5Vg-Qj",
        "outputId": "3a9b2d42-d48a-4903-ea18-3013e224679d"
      },
      "execution_count": 15,
      "outputs": [
        {
          "output_type": "execute_result",
          "data": {
            "text/plain": [
              "['5698', 'Singh sharma', '564', 'kumar', 'akash']"
            ]
          },
          "metadata": {},
          "execution_count": 15
        }
      ]
    },
    {
      "cell_type": "code",
      "source": [
        "list1[-1::-2]"
      ],
      "metadata": {
        "colab": {
          "base_uri": "https://localhost:8080/"
        },
        "id": "HCEWUIijhEA0",
        "outputId": "f19ef639-02a0-4640-e6e8-5062d51e5d82"
      },
      "execution_count": 16,
      "outputs": [
        {
          "output_type": "execute_result",
          "data": {
            "text/plain": [
              "['5698', '564', 'akash']"
            ]
          },
          "metadata": {},
          "execution_count": 16
        }
      ]
    },
    {
      "cell_type": "code",
      "source": [
        "list1[0][0]"
      ],
      "metadata": {
        "colab": {
          "base_uri": "https://localhost:8080/",
          "height": 35
        },
        "id": "EZ_ASDx8hHje",
        "outputId": "e226a512-53a5-4890-9b69-faf389d7fc8d"
      },
      "execution_count": 17,
      "outputs": [
        {
          "output_type": "execute_result",
          "data": {
            "text/plain": [
              "'a'"
            ],
            "application/vnd.google.colaboratory.intrinsic+json": {
              "type": "string"
            }
          },
          "metadata": {},
          "execution_count": 17
        }
      ]
    },
    {
      "cell_type": "markdown",
      "source": [
        "We can also use list methods to insert more items inside a list. We will use .insert() and .append() for it."
      ],
      "metadata": {
        "id": "btn6TlRWhwrW"
      }
    },
    {
      "cell_type": "code",
      "source": [
        "list1.insert(4, 'Rudra')"
      ],
      "metadata": {
        "id": "M5ezYcw0hLc_"
      },
      "execution_count": 18,
      "outputs": []
    },
    {
      "cell_type": "code",
      "source": [
        "list1"
      ],
      "metadata": {
        "colab": {
          "base_uri": "https://localhost:8080/"
        },
        "id": "bS-rkOjBiWL9",
        "outputId": "4fd9bc2a-2779-4a28-b95c-b9a84d866544"
      },
      "execution_count": 19,
      "outputs": [
        {
          "output_type": "execute_result",
          "data": {
            "text/plain": [
              "['akash', 'kumar', '564', 'Singh sharma', 'Rudra', '5698']"
            ]
          },
          "metadata": {},
          "execution_count": 19
        }
      ]
    },
    {
      "cell_type": "code",
      "source": [
        "list1.append('Ravi')\n",
        "list1.append('Ravi')\n",
        "list1"
      ],
      "metadata": {
        "colab": {
          "base_uri": "https://localhost:8080/"
        },
        "id": "XDQIS7oyiW_4",
        "outputId": "ad678d7a-d7c3-4d14-f768-5d60eb8c24f0"
      },
      "execution_count": 21,
      "outputs": [
        {
          "output_type": "execute_result",
          "data": {
            "text/plain": [
              "['akash', 'kumar', '564', 'Singh sharma', 'Rudra', '5698', 'Ravi', 'Ravi']"
            ]
          },
          "metadata": {},
          "execution_count": 21
        }
      ]
    },
    {
      "cell_type": "code",
      "source": [],
      "metadata": {
        "id": "cxCfRlVdiaT6"
      },
      "execution_count": null,
      "outputs": []
    }
  ]
}