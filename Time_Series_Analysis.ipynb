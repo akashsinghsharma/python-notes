{
  "nbformat": 4,
  "nbformat_minor": 0,
  "metadata": {
    "colab": {
      "provenance": [],
      "authorship_tag": "ABX9TyM92KWQf9hjzTiRKV+atRd/",
      "include_colab_link": true
    },
    "kernelspec": {
      "name": "python3",
      "display_name": "Python 3"
    },
    "language_info": {
      "name": "python"
    }
  },
  "cells": [
    {
      "cell_type": "markdown",
      "metadata": {
        "id": "view-in-github",
        "colab_type": "text"
      },
      "source": [
        "<a href=\"https://colab.research.google.com/github/akashsinghsharma/python-notes/blob/main/Time_Series_Analysis.ipynb\" target=\"_parent\"><img src=\"https://colab.research.google.com/assets/colab-badge.svg\" alt=\"Open In Colab\"/></a>"
      ]
    },
    {
      "cell_type": "markdown",
      "source": [
        "# Time Series as Features"
      ],
      "metadata": {
        "id": "KkkX71BRmen8"
      }
    },
    {
      "cell_type": "markdown",
      "source": [
        "Cycles are patterns of growth and decay in a time series associated with how the value in a series at one time depends on values at previous times, but not necessarily on the time step itself.\n",
        "\n",
        "What distinguishes cyclic behavior from seasonality is that cycles are not necessarily time dependent, as seasons are. What happens in a cycle is less about the particular date of occurence, and more about what has happened in the recent past. The (at least relative) independence from time means that cyclic behavior can be much more irregular than seasonality."
      ],
      "metadata": {
        "id": "fOmsnNKzmjNq"
      }
    },
    {
      "cell_type": "markdown",
      "source": [
        "**Lagged Series**\n",
        "\n",
        "Lagging a time series means to shift its values forward one or more time steps, or equivalently, to shift the times in its index backward one or more steps."
      ],
      "metadata": {
        "id": "SYpGlXKAmjRl"
      }
    },
    {
      "cell_type": "markdown",
      "source": [],
      "metadata": {
        "id": "97oh1zjVmjUi"
      }
    },
    {
      "cell_type": "markdown",
      "source": [
        "# Time Series : Great Learning"
      ],
      "metadata": {
        "id": "4PgzQxCrmjXM"
      }
    },
    {
      "cell_type": "markdown",
      "source": [
        "**Time Series Analysis using Python**\n",
        "\n",
        "---\n",
        "\n",
        "There are problems where we have time going on as independent variable, and things like sales, stock price, etc. as dependent variable. Here we have data points collected over a sequence of time and we analyze that sequence and make pediction accordingly.\n",
        "\n",
        "In time series analysis, analysts record data points at consistent intervals over a set period of time rather than just recording the data points intermittently or randomly.\n",
        "\n",
        "It can be yearly, quaterly, monthly, hourly, daily, etc. But it should always be largely consistent interval."
      ],
      "metadata": {
        "id": "LhE4LbwamjZy"
      }
    },
    {
      "cell_type": "markdown",
      "source": [
        "For eg: India GDP Data for per year. If it is consistent for each year with equal interval, it's a time series data. Same will be case of quaterly, etc.\n",
        "\n",
        "Such data usually have a trend, of increase decrease, cycle, etc."
      ],
      "metadata": {
        "id": "QK4PNDB_N9DX"
      }
    }
  ]
}